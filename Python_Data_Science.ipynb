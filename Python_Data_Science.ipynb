{
  "nbformat": 4,
  "nbformat_minor": 0,
  "metadata": {
    "colab": {
      "provenance": [],
      "include_colab_link": true
    },
    "kernelspec": {
      "name": "python3",
      "display_name": "Python 3"
    },
    "language_info": {
      "name": "python"
    }
  },
  "cells": [
    {
      "cell_type": "markdown",
      "metadata": {
        "id": "view-in-github",
        "colab_type": "text"
      },
      "source": [
        "<a href=\"https://colab.research.google.com/github/karlaferrvalencia/python-primeros-pasos-data-science/blob/main/Python_Data_Science.ipynb\" target=\"_parent\"><img src=\"https://colab.research.google.com/assets/colab-badge.svg\" alt=\"Open In Colab\"/></a>"
      ]
    },
    {
      "cell_type": "markdown",
      "source": [
        "## ¡Hola mundo!\n",
        "\n",
        "Vamos a conocer un poco más de cerca nuestro notebook. Para ello ejecutaremos nuestro primer comando en Python: [`print()`](https://docs.python.org/3/library/functions.html#print)"
      ],
      "metadata": {
        "id": "aLSFP2V7XTfe"
      }
    },
    {
      "cell_type": "code",
      "source": [
        "print (\"Hola Mundo\");"
      ],
      "metadata": {
        "id": "0qZX8_ZQBYyk",
        "colab": {
          "base_uri": "https://localhost:8080/"
        },
        "outputId": "3bf87236-c322-4e90-c4c6-fd03cc94eaaf"
      },
      "execution_count": null,
      "outputs": [
        {
          "output_type": "stream",
          "name": "stdout",
          "text": [
            "Hola Mundo\n"
          ]
        }
      ]
    },
    {
      "cell_type": "markdown",
      "source": [
        "Ejercicio 1 & 2"
      ],
      "metadata": {
        "id": "tZE8TDrsJhJl"
      }
    },
    {
      "cell_type": "code",
      "source": [
        "print (\"Escuela de Datos Alura\");\n",
        "print(\"Nombre: Karla\");\n",
        "print(\"Apellido: Valencia\");"
      ],
      "metadata": {
        "id": "GLMzF_AKBY7a",
        "colab": {
          "base_uri": "https://localhost:8080/"
        },
        "outputId": "78511481-b467-45c5-b102-1c0ed0d5412e"
      },
      "execution_count": null,
      "outputs": [
        {
          "output_type": "stream",
          "name": "stdout",
          "text": [
            "Escuela de Datos Alura\n",
            "Nombre: Karla\n",
            "Apellido: Valencia\n"
          ]
        }
      ]
    },
    {
      "cell_type": "markdown",
      "source": [
        "Ejercicio 3"
      ],
      "metadata": {
        "id": "atBfX954JkqH"
      }
    },
    {
      "cell_type": "code",
      "source": [
        "print (\"K\");\n",
        "print(\"A\");\n",
        "print(\"R\");\n",
        "print(\"L\");\n",
        "print(\"A\");"
      ],
      "metadata": {
        "id": "y75nWEnNJm2W"
      },
      "execution_count": null,
      "outputs": []
    },
    {
      "cell_type": "markdown",
      "source": [
        "Ejercicio 4"
      ],
      "metadata": {
        "id": "f638mJ94J1_q"
      }
    },
    {
      "cell_type": "code",
      "source": [
        "print(29,\"Abril\", 1997);"
      ],
      "metadata": {
        "colab": {
          "base_uri": "https://localhost:8080/"
        },
        "id": "tPp1FjCHJ3cW",
        "outputId": "8d54967b-88b7-47e4-976a-df5e4885cfff"
      },
      "execution_count": null,
      "outputs": [
        {
          "output_type": "stream",
          "name": "stdout",
          "text": [
            "29 Abril 1997\n"
          ]
        }
      ]
    },
    {
      "cell_type": "markdown",
      "source": [
        "Ejercicio 5"
      ],
      "metadata": {
        "id": "QbipPxj_L8ie"
      }
    },
    {
      "cell_type": "code",
      "source": [
        "print(\"Año Actual:\",2025);"
      ],
      "metadata": {
        "id": "i61fiqZFL94B",
        "outputId": "fc8bb0c0-c860-43c6-b8d2-e394af84906e",
        "colab": {
          "base_uri": "https://localhost:8080/"
        }
      },
      "execution_count": null,
      "outputs": [
        {
          "output_type": "stream",
          "name": "stdout",
          "text": [
            "Año Actual: 2025\n"
          ]
        }
      ]
    },
    {
      "cell_type": "markdown",
      "source": [
        "# Manipulando los datos\n",
        "\n",
        "Vamos a aprender sobre las variables en Python, cómo declararlas y utilizarlas además de conocer otros comandos de este lenguaje. :D"
      ],
      "metadata": {
        "id": "iP8uWQmFYFRs"
      }
    },
    {
      "cell_type": "markdown",
      "source": [
        "## Variables\n",
        "\n",
        "En Data Science trabajamos con varios tipos de datos e informaciones, entonces es esencial saber cómo trabajar con las variables."
      ],
      "metadata": {
        "id": "sLNVmnTbag1Z"
      }
    },
    {
      "cell_type": "markdown",
      "source": [
        "Las variables en Python se crean cuando atribuimos un valor a ella.\n",
        "\n",
        "Para esto, colocamos el nombre de la variable, el signo de igual (`=`) y el valor que queremos atribuirle."
      ],
      "metadata": {
        "id": "lsCY0wahAbf6"
      }
    },
    {
      "cell_type": "code",
      "source": [
        "5"
      ],
      "metadata": {
        "id": "vsHh5buZADND",
        "colab": {
          "base_uri": "https://localhost:8080/"
        },
        "outputId": "b212f3a1-24ce-46b7-9d53-0a3e06c957c9"
      },
      "execution_count": null,
      "outputs": [
        {
          "output_type": "execute_result",
          "data": {
            "text/plain": [
              "5"
            ]
          },
          "metadata": {},
          "execution_count": 4
        }
      ]
    },
    {
      "cell_type": "code",
      "source": [
        "id(5)"
      ],
      "metadata": {
        "id": "JC8jO47wADlm",
        "colab": {
          "base_uri": "https://localhost:8080/"
        },
        "outputId": "8935867e-7760-47ee-e3d4-6770742d8b36"
      },
      "execution_count": null,
      "outputs": [
        {
          "output_type": "execute_result",
          "data": {
            "text/plain": [
              "10750984"
            ]
          },
          "metadata": {},
          "execution_count": 6
        }
      ]
    },
    {
      "cell_type": "code",
      "source": [
        "edad = 5"
      ],
      "metadata": {
        "id": "L127qaX871kA"
      },
      "execution_count": null,
      "outputs": []
    },
    {
      "cell_type": "code",
      "source": [
        "id(edad)\n",
        "print(id(5));"
      ],
      "metadata": {
        "colab": {
          "base_uri": "https://localhost:8080/"
        },
        "id": "kn_aIjN7734K",
        "outputId": "17c8de7d-16d9-45cd-c600-9ed691193f39"
      },
      "execution_count": null,
      "outputs": [
        {
          "output_type": "stream",
          "name": "stdout",
          "text": [
            "10750984\n"
          ]
        }
      ]
    },
    {
      "cell_type": "code",
      "source": [
        "nombre = \"Gabriel\""
      ],
      "metadata": {
        "id": "cyzqOciQ8MBH"
      },
      "execution_count": null,
      "outputs": []
    },
    {
      "cell_type": "code",
      "source": [
        "id(\"Gabriel\")"
      ],
      "metadata": {
        "colab": {
          "base_uri": "https://localhost:8080/"
        },
        "id": "vadt3K-v8ST9",
        "outputId": "52e82a9c-e72b-4254-b078-618bafa1af08"
      },
      "execution_count": null,
      "outputs": [
        {
          "output_type": "execute_result",
          "data": {
            "text/plain": [
              "135247362120304"
            ]
          },
          "metadata": {},
          "execution_count": 15
        }
      ]
    },
    {
      "cell_type": "code",
      "source": [
        "id(nombre)"
      ],
      "metadata": {
        "colab": {
          "base_uri": "https://localhost:8080/"
        },
        "id": "r_PK3ecM8WbE",
        "outputId": "1528827c-7017-41cf-81ec-332e3c006a3c"
      },
      "execution_count": null,
      "outputs": [
        {
          "output_type": "execute_result",
          "data": {
            "text/plain": [
              "135247362120304"
            ]
          },
          "metadata": {},
          "execution_count": 16
        }
      ]
    },
    {
      "cell_type": "markdown",
      "source": [
        "Existen algunos tipos de nomes que **no** podemos definir para las variables:\n",
        "\n",
        "- **Nombres que comiencen con números**\n",
        "  - Ejemplos: `10_notas`, `2_nombre_casa`, etc.\n",
        "- **Palabras separadas por espacio**\n",
        "  - Ejemplos: `Nombre escuela`, `notas estudiantes`, etc.\n",
        "- **Nombres de funciones de Python**\n",
        "  - Ejemplos: `print`, `type`, etc."
      ],
      "metadata": {
        "id": "om2N0jHKAzwL"
      }
    },
    {
      "cell_type": "markdown",
      "source": [
        "> Las letras mayúsculas y minúsculas generarán diferentes variables. La variable `edad` es diferente de `Edad` que a su vez es diferente de `EDAD`:\n",
        "``` Python\n",
        "edad = 1\n",
        "Edad = 2\n",
        "EDAD = 3\n",
        "_edad = 4\n",
        "_edad_ = 5\n",
        "print(edad, Edad, EDAD, _edad, _edad_)\n",
        "1 2 3 4 5\n",
        "```"
      ],
      "metadata": {
        "id": "A19vY2GVMujB"
      }
    },
    {
      "cell_type": "markdown",
      "source": [
        "## Comentarios\n",
        "\n",
        "Comentarios de una línea:\n",
        "\n",
        "Estos comentarios se hacen agregando un símbolo de almohadilla/numeral (#) al principio de una línea de código. Todo lo que venga después del símbolo # en una línea se considerará un comentario, como se puede ver en el código a continuación:"
      ],
      "metadata": {
        "id": "UqhzuBhBHsps"
      }
    },
    {
      "cell_type": "code",
      "source": [
        "# Este es un comentario de una línea\n",
        "print(10) # Podemos colocar otro comentario en una línea después de un código"
      ],
      "metadata": {
        "colab": {
          "base_uri": "https://localhost:8080/"
        },
        "id": "dQ8Z6X9L9s_m",
        "outputId": "720fa3ec-d1f1-45ae-b3d0-03ee4ae5429c"
      },
      "execution_count": null,
      "outputs": [
        {
          "output_type": "stream",
          "name": "stdout",
          "text": [
            "10\n"
          ]
        }
      ]
    },
    {
      "cell_type": "markdown",
      "source": [
        "Puedes ejecutar el código anterior en tu cuaderno y verás que todo el texto después del símbolo # se ignora durante la ejecución.\n",
        "\n",
        "Comentarios de varias líneas:\n",
        "\n",
        "Los comentarios de varias líneas se hacen usando un conjunto de comillas triples: ''' o \"\"\". Todo lo que esté entre estas comillas triples se considerará un comentario, incluso si abarca varias líneas. Por ejemplo:"
      ],
      "metadata": {
        "id": "2RpzVmr_91rY"
      }
    },
    {
      "cell_type": "code",
      "source": [
        "'''\n",
        "Este es un comentario\n",
        "de varias líneas.\n",
        "'''"
      ],
      "metadata": {
        "colab": {
          "base_uri": "https://localhost:8080/",
          "height": 35
        },
        "id": "SQ3NcfJP-EjN",
        "outputId": "13459778-c6d7-4204-a125-bdb4a177690d"
      },
      "execution_count": null,
      "outputs": [
        {
          "output_type": "execute_result",
          "data": {
            "text/plain": [
              "'\\nEste es un comentario\\nde varias líneas.\\n'"
            ],
            "application/vnd.google.colaboratory.intrinsic+json": {
              "type": "string"
            }
          },
          "metadata": {},
          "execution_count": 18
        }
      ]
    },
    {
      "cell_type": "markdown",
      "source": [
        "Mientras el texto esté dentro de las comillas, se ignorará durante la ejecución, ya sea en una línea de código o en cualquier otro texto. A pesar de estas formas de comentar el código, cuando trabajamos con un cuaderno de Python, tenemos la opción de crear celdas de texto en formato markdown.\n",
        "\n",
        "Markdown:\n",
        "\n",
        "Markdown es una forma de formato de texto que permite escribir de manera simple y fácil de leer. Permite agregar formato al texto sin necesidad de escribir código HTML u otro lenguaje de formato más complejo.\n",
        "\n",
        "Con markdown, podemos formatear el texto para agregar negritas, cursivas, listas, encabezados, etc. Además, es una excelente opción para documentar el código describiendo lo que hemos hecho, analizando los resultados y proporcionando pasos futuros. En Ciencia de Datos, se hace un amplio uso de textos en markdown, ya que facilita en gran medida la documentación en cuadernos.\n",
        "\n",
        "Para crear una celda de texto en Google Colab, puedes hacer clic en el botón + Texto debajo de la barra superior de botones de Colab.\n",
        "\n",
        "Al crear la celda de texto, puedes agregar el contenido que desees. El cuaderno de este curso está lleno de celdas de texto que explican varios aspectos de la programación en Python, todas formateadas con markdown. A continuación, te damos algunos consejos para construir texto con markdown:\n",
        "\n",
        "Encabezados:\n",
        "\n",
        "Para construir encabezados, puedes usar el símbolo # antes del texto. Cuantos más símbolos # uses, menor será el nivel del encabezado. Por ejemplo:"
      ],
      "metadata": {
        "id": "M2t4F0C2-SD3"
      }
    },
    {
      "cell_type": "markdown",
      "source": [
        "# Encabezado de nivel 1\n",
        "## Encabezado de nivel 2\n",
        "### Encabezado de nivel 3"
      ],
      "metadata": {
        "id": "OCxHqFBW_NRL"
      }
    },
    {
      "cell_type": "markdown",
      "source": [
        "Negritas e itálicas:\n",
        "\n",
        "Para formatear el texto en negritas, puedes usar ** antes y después del texto, para formatear el texto en cursiva, utiliza * antes y después del texto. También puedes combinar ambas formas de escritura agrupando las dos estructuras con ** y *. Por ejemplo:"
      ],
      "metadata": {
        "id": "-SP7JUu8-ljg"
      }
    },
    {
      "cell_type": "markdown",
      "source": [
        "**Texto en negritas**\n",
        "*Texto en cursiva*\n",
        "***Texto en negritas y cursiva***\n",
        "\n",
        "Listas:\n",
        "\n",
        "* Elemento 1\n",
        "* Elemento 2\n",
        "* Elemento 3\n",
        "1. Elemento 1\n",
        "2. Elemento 2\n",
        "3. Elemento 3\n",
        "\n",
        "Enlaces:\n",
        "\n",
        "[Página de Alura](https://www.aluracursos.com/)"
      ],
      "metadata": {
        "id": "2a-9NGIK_RxA"
      }
    },
    {
      "cell_type": "markdown",
      "source": [
        "## Tipos de variables\n",
        "\n",
        "Cada variable contiene una clase específica con respecto al tipo de objeto al cual esta hace referencia. Estas clases serán diferentes de acuerdo con el tipo de dato que le sea atribuido a una variable.\n",
        "\n",
        "Para conocer la clase de cada elemento usamos la función [`type()`](https://docs.python.org/3/library/functions.html#type)"
      ],
      "metadata": {
        "id": "Ygl8bkIq9apy"
      }
    },
    {
      "cell_type": "code",
      "source": [
        "edad = 5"
      ],
      "metadata": {
        "id": "J5a9t73A_-PX"
      },
      "execution_count": null,
      "outputs": []
    },
    {
      "cell_type": "code",
      "source": [
        "type(edad)"
      ],
      "metadata": {
        "id": "rqmO1ew-_-So",
        "colab": {
          "base_uri": "https://localhost:8080/"
        },
        "outputId": "6084b267-c9e6-4f3b-c5b1-1625aaff5273"
      },
      "execution_count": null,
      "outputs": [
        {
          "output_type": "execute_result",
          "data": {
            "text/plain": [
              "int"
            ]
          },
          "metadata": {},
          "execution_count": 25
        }
      ]
    },
    {
      "cell_type": "code",
      "source": [
        "promedio = 9.5\n",
        "type(promedio)"
      ],
      "metadata": {
        "id": "xkrPMkeY_-cP",
        "colab": {
          "base_uri": "https://localhost:8080/"
        },
        "outputId": "368c9a6c-fec2-48ec-a429-2b12123ef4a5"
      },
      "execution_count": null,
      "outputs": [
        {
          "output_type": "execute_result",
          "data": {
            "text/plain": [
              "float"
            ]
          },
          "metadata": {},
          "execution_count": 26
        }
      ]
    },
    {
      "cell_type": "code",
      "source": [
        "nombre = \"Gabriel\"\n",
        "type(nombre)"
      ],
      "metadata": {
        "colab": {
          "base_uri": "https://localhost:8080/"
        },
        "id": "hZzZrnUsEFA4",
        "outputId": "50255f81-4119-4de3-d064-fcbb9a4071cd"
      },
      "execution_count": null,
      "outputs": [
        {
          "output_type": "execute_result",
          "data": {
            "text/plain": [
              "str"
            ]
          },
          "metadata": {},
          "execution_count": 28
        }
      ]
    },
    {
      "cell_type": "code",
      "source": [
        "v = True\n",
        "type(v)"
      ],
      "metadata": {
        "colab": {
          "base_uri": "https://localhost:8080/"
        },
        "id": "E32JmmmMEQ2U",
        "outputId": "d1d028fd-65ff-45ba-dc1d-bf2f2ba4278d"
      },
      "execution_count": null,
      "outputs": [
        {
          "output_type": "execute_result",
          "data": {
            "text/plain": [
              "bool"
            ]
          },
          "metadata": {},
          "execution_count": 29
        }
      ]
    },
    {
      "cell_type": "markdown",
      "source": [
        "En un conjunto de datos escolares podemos tener varios tipos de informaciones. Supongamos que tenemos acceso a la ficha de datos del alumno *Penélope Camacho*, cómo transformamos este nombre en variables de Python?\n",
        "\n",
        "#### Ficha:\n",
        "\n",
        "- Nombre: Penélope Camacho\n",
        "- Edad: 11 años\n",
        "- Promedio del semestre: 9,75\n",
        "- Situación de aprobación: Verdadera (aprobado)"
      ],
      "metadata": {
        "id": "O-FxDumfWu0C"
      }
    },
    {
      "cell_type": "code",
      "source": [
        "nombre_estudiante = \"Penelope Camacho\"\n",
        "edad_estudiante = 11\n",
        "promedio_estudiante = 9.75\n",
        "aprobado_estudiante = True\n",
        "\n",
        "print(nombre_estudiante,edad_estudiante,promedio_estudiante,aprobado_estudiante)\n",
        "print(type(nombre_estudiante),type(edad_estudiante),type(promedio_estudiante),type(aprobado_estudiante))"
      ],
      "metadata": {
        "id": "FabQ7jQf_8Xt",
        "colab": {
          "base_uri": "https://localhost:8080/"
        },
        "outputId": "29c56adf-74bc-4af5-c62e-bea5a4185bf6"
      },
      "execution_count": null,
      "outputs": [
        {
          "output_type": "stream",
          "name": "stdout",
          "text": [
            "Penelope Camacho 11 9.75 True\n",
            "<class 'str'> <class 'int'> <class 'float'> <class 'bool'>\n"
          ]
        }
      ]
    },
    {
      "cell_type": "markdown",
      "source": [
        "## Variables numéricas\n",
        "\n",
        "Entre los tipos de datos numéricos vamos a enfocarnos en los tipos `entero` y `float`."
      ],
      "metadata": {
        "id": "KFq_8Sxf-OG0"
      }
    },
    {
      "cell_type": "markdown",
      "source": [
        "Tenemos una tabla de información sobre los diversos cargos, cantidad de personas empleadas y el salario correspondiente:\n",
        "\n",
        "|Cargo | Cantidad | Salario|\n",
        "|---|---|---|\n",
        "|Vigilante | 5 | 300 |\n",
        "|Docente | 16| 500|\n",
        "|Coordinador| 2 |600|\n",
        "\n",
        "Necesitamos trabajar con estos datos para obtener:\n",
        "\n",
        "- La cantidad total de empleados;\n",
        "- La diferencia entre el salario más bajo y más alto; y\n",
        "- El promedio ponderado de los salarios de los empleados de la escuela."
      ],
      "metadata": {
        "id": "8_HYUbkVYdQY"
      }
    },
    {
      "cell_type": "code",
      "source": [
        "vigilante = 5\n",
        "salario_vigilante = 300\n",
        "docente = 16\n",
        "salario_docente = 500\n",
        "coordinador = 2\n",
        "salario_coordinador = 600\n",
        "\n",
        "total_personal = vigilante + docente + coordinador\n",
        "print(\"Total de personal: \",total_personal)\n",
        "\n",
        "diferencia_salarios = salario_coordinador - salario_vigilante\n",
        "print(\"Diferencia de salarios: \",diferencia_salarios)\n",
        "\n",
        "promedio_salarios = (salario_vigilante * vigilante + salario_docente * docente + salario_coordinador * coordinador) / total_personal\n",
        "print(\"Promedio de salarios: \",promedio_salarios)"
      ],
      "metadata": {
        "id": "F_X-wxdm_5Ys",
        "colab": {
          "base_uri": "https://localhost:8080/"
        },
        "outputId": "ba3550fa-5b71-47af-ab28-e1c69643b51b"
      },
      "execution_count": null,
      "outputs": [
        {
          "output_type": "stream",
          "name": "stdout",
          "text": [
            "Total de personal:  23\n",
            "Diferencia de salarios:  300\n",
            "Promedio de salarios:  465.2173913043478\n"
          ]
        }
      ]
    },
    {
      "cell_type": "markdown",
      "source": [
        "## Strings"
      ],
      "metadata": {
        "id": "yQy7b0ZWoD-P"
      }
    },
    {
      "cell_type": "markdown",
      "source": [
        "Strings hace referencia a un conjunto de caracteres formando un texto.\n",
        "\n",
        "Podemos crear Strings cuando atribuimos un dato a una variable entre comillas sencillas (`'`) o comillas dobles (`\"`)."
      ],
      "metadata": {
        "id": "vlo2-DXusv3s"
      }
    },
    {
      "cell_type": "code",
      "source": [
        "t = \"Alura\"\n",
        "type(t)"
      ],
      "metadata": {
        "id": "ityEWqvh_2wK",
        "colab": {
          "base_uri": "https://localhost:8080/"
        },
        "outputId": "b07afa81-99f8-42a1-be61-a77bf4cd36be"
      },
      "execution_count": null,
      "outputs": [
        {
          "output_type": "execute_result",
          "data": {
            "text/plain": [
              "str"
            ]
          },
          "metadata": {},
          "execution_count": 45
        }
      ]
    },
    {
      "cell_type": "markdown",
      "source": [
        "Las variables textuales son objetos que poseen métodos que nos ayudan a formatear strings. Los métodos los podemos ejecutar al definir un objeto de acuerdo con la siguiente estructura:\n",
        "\n",
        "```\n",
        "objeto.metodo()\n",
        "```\n",
        "\n",
        "Existen métodos que no necesitan los `()`, siempre es una buena práctica verificar la documentación para cada caso."
      ],
      "metadata": {
        "id": "2e9UD_CCxqz_"
      }
    },
    {
      "cell_type": "markdown",
      "source": [
        "---\n",
        "**Situación:**\n",
        "\n",
        "Recibimos una variable con el nombre de una profesora de la escuela para añadirla a los registros. Sin embargo, necesitamos darle un tratamiento a este texto antes de insertarlo al sistema."
      ],
      "metadata": {
        "id": "p6aPmMGP4tf9"
      }
    },
    {
      "cell_type": "code",
      "source": [
        "texto = '  Micaela de los Sanyos '\n",
        "id(texto)"
      ],
      "metadata": {
        "id": "icDWtYTjBO0n",
        "colab": {
          "base_uri": "https://localhost:8080/"
        },
        "outputId": "5b3aa799-5fd0-4ede-edc5-c239ab3d1944"
      },
      "execution_count": null,
      "outputs": [
        {
          "output_type": "execute_result",
          "data": {
            "text/plain": [
              "135247241051824"
            ]
          },
          "metadata": {},
          "execution_count": 46
        }
      ]
    },
    {
      "cell_type": "markdown",
      "source": [
        "El objetivo final es que el nombre aparezca de la siguiente forma:\n",
        "\n",
        "```\n",
        "'MICAELA DE LOS SANTOS'\n",
        "```"
      ],
      "metadata": {
        "id": "Dg2ZXSZOGzjC"
      }
    },
    {
      "cell_type": "markdown",
      "source": [
        "### [`str.upper()` ](https://docs.python.org/3/library/stdtypes.html#str.upper)\n",
        "Convierte una string a mayúsculas."
      ],
      "metadata": {
        "id": "iVTAD8q702eN"
      }
    },
    {
      "cell_type": "code",
      "source": [
        "texto.upper()"
      ],
      "metadata": {
        "id": "wMVshJrY_ZXh",
        "colab": {
          "base_uri": "https://localhost:8080/",
          "height": 35
        },
        "outputId": "5af2d89d-124f-480a-e625-abc055e77e85"
      },
      "execution_count": null,
      "outputs": [
        {
          "output_type": "execute_result",
          "data": {
            "text/plain": [
              "'  MICAELA DE LOS SANYOS '"
            ],
            "application/vnd.google.colaboratory.intrinsic+json": {
              "type": "string"
            }
          },
          "metadata": {},
          "execution_count": 47
        }
      ]
    },
    {
      "cell_type": "markdown",
      "source": [
        "### [`str.lower()`](https://docs.python.org/3/library/stdtypes.html#str.lower)\n",
        "Convierte una string a minúsculas."
      ],
      "metadata": {
        "id": "hbDSBtMV1TpG"
      }
    },
    {
      "cell_type": "code",
      "source": [
        "texto.lower()"
      ],
      "metadata": {
        "id": "px3yEeNH_YK4",
        "colab": {
          "base_uri": "https://localhost:8080/",
          "height": 35
        },
        "outputId": "a2a0d0ad-ed13-4e94-8d32-f69ad488cf42"
      },
      "execution_count": null,
      "outputs": [
        {
          "output_type": "execute_result",
          "data": {
            "text/plain": [
              "'  micaela de los sanyos '"
            ],
            "application/vnd.google.colaboratory.intrinsic+json": {
              "type": "string"
            }
          },
          "metadata": {},
          "execution_count": 48
        }
      ]
    },
    {
      "cell_type": "markdown",
      "source": [
        "### [`str.strip()`](https://docs.python.org/3/library/stdtypes.html#str.strip)\n",
        "Elimina los espacios en blanco al inicio y al final de una string."
      ],
      "metadata": {
        "id": "kz47eWM11gii"
      }
    },
    {
      "cell_type": "code",
      "source": [
        "texto.strip()"
      ],
      "metadata": {
        "id": "76dLgNa4_XAe",
        "colab": {
          "base_uri": "https://localhost:8080/",
          "height": 35
        },
        "outputId": "96e6ee59-4c8b-436f-aca9-cbdbb3add666"
      },
      "execution_count": null,
      "outputs": [
        {
          "output_type": "execute_result",
          "data": {
            "text/plain": [
              "'Micaela de los Sanyos'"
            ],
            "application/vnd.google.colaboratory.intrinsic+json": {
              "type": "string"
            }
          },
          "metadata": {},
          "execution_count": 50
        }
      ]
    },
    {
      "cell_type": "markdown",
      "source": [
        "### [`str.replace(antiguo, nuevo)`](https://docs.python.org/3/library/stdtypes.html#str.replace)\n",
        "\n",
        "Sustituye todas las ocurrencias del texto \"antiguo\" en la string por el  \"nuevo\"."
      ],
      "metadata": {
        "id": "m6notiyS1SCV"
      }
    },
    {
      "cell_type": "code",
      "source": [
        "texto.replace(\"y\",\"t\")"
      ],
      "metadata": {
        "id": "PNXAixtE_V6R",
        "colab": {
          "base_uri": "https://localhost:8080/",
          "height": 35
        },
        "outputId": "dce26020-2d70-45a6-d588-d1f42ff1845d"
      },
      "execution_count": null,
      "outputs": [
        {
          "output_type": "execute_result",
          "data": {
            "text/plain": [
              "'  Micaela de los Santos '"
            ],
            "application/vnd.google.colaboratory.intrinsic+json": {
              "type": "string"
            }
          },
          "metadata": {},
          "execution_count": 52
        }
      ]
    },
    {
      "cell_type": "markdown",
      "source": [
        "### Observaciones\n",
        "\n",
        "1. Los métodos devuelven una **tranformación**, no son ejecutados directamente sobre la variable donde está almacenado el texto.\n",
        "\n",
        "2. Adicionalmente, podemos acumular la ejecución de los métodos."
      ],
      "metadata": {
        "id": "zukvEjhG2Rcn"
      }
    },
    {
      "cell_type": "code",
      "source": [
        "nuevo_texto = texto.strip().replace(\"y\",\"t\").upper()\n",
        "print(nuevo_texto)\n",
        "id(nuevo_texto)"
      ],
      "metadata": {
        "id": "JjkBRklr_T5n",
        "colab": {
          "base_uri": "https://localhost:8080/"
        },
        "outputId": "595cd04a-e0c7-4ad2-ce40-b6372f89f9b0"
      },
      "execution_count": null,
      "outputs": [
        {
          "output_type": "stream",
          "name": "stdout",
          "text": [
            "MICAELA DE LOS SANTOS\n"
          ]
        },
        {
          "output_type": "execute_result",
          "data": {
            "text/plain": [
              "135247242392032"
            ]
          },
          "metadata": {},
          "execution_count": 59
        }
      ]
    },
    {
      "cell_type": "markdown",
      "source": [
        "Para que la transformación se pueda ejecutar debemos atribuir la salida de las transformaciones a las variables"
      ],
      "metadata": {
        "id": "1KbwfVut2h6I"
      }
    },
    {
      "cell_type": "code",
      "source": [
        "nuevo_texto_dos = texto.strip().replace(\"y\",\"t\").upper()\n",
        "print(nuevo_texto_dos)\n",
        "id(nuevo_texto_dos)"
      ],
      "metadata": {
        "colab": {
          "base_uri": "https://localhost:8080/"
        },
        "outputId": "6360e53b-24f9-478e-83cb-2a053c053a30",
        "id": "uF5qbKYVffj9"
      },
      "execution_count": null,
      "outputs": [
        {
          "output_type": "stream",
          "name": "stdout",
          "text": [
            "MICAELA DE LOS SANTOS\n"
          ]
        },
        {
          "output_type": "execute_result",
          "data": {
            "text/plain": [
              "135247241110480"
            ]
          },
          "metadata": {},
          "execution_count": 60
        }
      ]
    },
    {
      "cell_type": "markdown",
      "source": [
        "Durante las clases, aprendimos a sumar, restar, multiplicar y dividir variables numéricas en Python. Pero también existen otros cálculos matemáticos que se pueden realizar mediante operadores aritméticos, como la exponenciación, el módulo y la división entera.\n",
        "\n",
        "Exponenciación (**)\n",
        "\n",
        "Podemos elevar un número a una potencia específica utilizando el operador **. Para obtener este resultado, definimos un valor a la izquierda del operador y la potencia deseada del número a la derecha. Por ejemplo, sabemos que 2 elevado a la 3 es igual a 8 (2 * 2 * 2 = 8). Para realizar este cálculo, escribimos:"
      ],
      "metadata": {
        "id": "ETh_aWhff_lT"
      }
    },
    {
      "cell_type": "code",
      "source": [
        "2**3"
      ],
      "metadata": {
        "colab": {
          "base_uri": "https://localhost:8080/"
        },
        "id": "9ai05ozXgCSK",
        "outputId": "cd7acd84-f56b-441b-b792-63fba915b9fe"
      },
      "execution_count": null,
      "outputs": [
        {
          "output_type": "execute_result",
          "data": {
            "text/plain": [
              "8"
            ]
          },
          "metadata": {},
          "execution_count": 61
        }
      ]
    },
    {
      "cell_type": "code",
      "source": [
        "operador = 2\n",
        "potencia = 3\n",
        "operador ** potencia"
      ],
      "metadata": {
        "colab": {
          "base_uri": "https://localhost:8080/"
        },
        "id": "wAq18rhPgSoK",
        "outputId": "b85cd937-e541-4969-a0f8-411c76ad2235"
      },
      "execution_count": null,
      "outputs": [
        {
          "output_type": "execute_result",
          "data": {
            "text/plain": [
              "8"
            ]
          },
          "metadata": {},
          "execution_count": 62
        }
      ]
    },
    {
      "cell_type": "markdown",
      "source": [
        "Módulo (%)\n",
        "\n",
        "El operador de módulo % puede devolver el residuo de una división entera entre dos números. Recuerda que el residuo de una división es el número que queda cuando la división no es exacta.\n",
        "\n",
        "Para calcular el módulo de una división, colocamos el dividendo a la izquierda del operador % y el divisor a la derecha. Por ejemplo, para encontrar el residuo de la división de 7 entre 3, podemos ejecutar los siguientes códigos:"
      ],
      "metadata": {
        "id": "4y6VMzxqgoO-"
      }
    },
    {
      "cell_type": "code",
      "source": [
        "7%3"
      ],
      "metadata": {
        "colab": {
          "base_uri": "https://localhost:8080/"
        },
        "id": "g2ApIcMMgrRM",
        "outputId": "476386ba-634c-4544-c9bc-93c6c6149e9e"
      },
      "execution_count": null,
      "outputs": [
        {
          "output_type": "execute_result",
          "data": {
            "text/plain": [
              "1"
            ]
          },
          "metadata": {},
          "execution_count": 64
        }
      ]
    },
    {
      "cell_type": "code",
      "source": [
        "dividendo = 7\n",
        "divisor = 3\n",
        "dividendo % divisor"
      ],
      "metadata": {
        "colab": {
          "base_uri": "https://localhost:8080/"
        },
        "id": "ghzS7OuLgxJZ",
        "outputId": "445ff171-a834-435e-e074-7feb01c2ec7d"
      },
      "execution_count": null,
      "outputs": [
        {
          "output_type": "execute_result",
          "data": {
            "text/plain": [
              "1"
            ]
          },
          "metadata": {},
          "execution_count": 65
        }
      ]
    },
    {
      "cell_type": "markdown",
      "source": [
        "División entera (//)\n",
        "\n",
        "Esta operación devuelve el resultado de la división entera entre dos números, es decir, solo devuelve la parte entera de una división. Por ejemplo, sabemos que la división exacta de 7 por 3 (7/3) resulta en el valor 2.333333.... Si esta fuera una división entera, el resultado sería simplemente 2. La sintaxis consiste en colocar el valor del numerador, el operador // y luego el denominador, como se muestra a continuación:"
      ],
      "metadata": {
        "id": "j5RyvMYSg0Wi"
      }
    },
    {
      "cell_type": "code",
      "source": [
        "7 // 3"
      ],
      "metadata": {
        "colab": {
          "base_uri": "https://localhost:8080/"
        },
        "id": "VhW4bGpUg1Fv",
        "outputId": "5b73364a-a5c5-4653-b968-a4b95bf8c5fc"
      },
      "execution_count": null,
      "outputs": [
        {
          "output_type": "execute_result",
          "data": {
            "text/plain": [
              "2"
            ]
          },
          "metadata": {},
          "execution_count": 66
        }
      ]
    },
    {
      "cell_type": "code",
      "source": [
        "numerador = 7\n",
        "denominador = 3\n",
        "numerador // denominador"
      ],
      "metadata": {
        "colab": {
          "base_uri": "https://localhost:8080/"
        },
        "id": "LzmgzxAFg2UW",
        "outputId": "481ba8a2-b3bd-41c0-c6ee-7dd322eef867"
      },
      "execution_count": null,
      "outputs": [
        {
          "output_type": "execute_result",
          "data": {
            "text/plain": [
              "2"
            ]
          },
          "metadata": {},
          "execution_count": 67
        }
      ]
    },
    {
      "cell_type": "markdown",
      "source": [
        "## Capturando datos\n",
        "\n",
        "En algunas aplicaciones necesitamos capturar los valores del usuario de nuestro proyecto. En python, logramos capturar los datos del usuario a través del comando [`input()`](https://docs.python.org/3/library/functions.html#input).\n",
        "\n",
        "Para ejecutar la captura debemos atribuir el resultado de esta función a una variable."
      ],
      "metadata": {
        "id": "0h9Fh5G9kHCa"
      }
    },
    {
      "cell_type": "code",
      "source": [
        "nombre = input(\"¿Cuál es tu nombre? \")"
      ],
      "metadata": {
        "id": "zbH_9i3q_PdY",
        "colab": {
          "base_uri": "https://localhost:8080/"
        },
        "outputId": "41c670ba-bfa4-43fb-c75b-4165344b4950"
      },
      "execution_count": null,
      "outputs": [
        {
          "name": "stdout",
          "output_type": "stream",
          "text": [
            "¿Cuál es tu nombre? Karla\n"
          ]
        }
      ]
    },
    {
      "cell_type": "code",
      "source": [
        "type(nombre)"
      ],
      "metadata": {
        "id": "JZy1Q9Tl_PgL",
        "colab": {
          "base_uri": "https://localhost:8080/"
        },
        "outputId": "68d45cde-26c1-4388-c3dc-914264f06cec"
      },
      "execution_count": null,
      "outputs": [
        {
          "output_type": "execute_result",
          "data": {
            "text/plain": [
              "str"
            ]
          },
          "metadata": {},
          "execution_count": 75
        }
      ]
    },
    {
      "cell_type": "markdown",
      "source": [
        "La salida de este comando siempre será una *string*. Esto quiere decir que aunque capturemos un valor de variable numérica, este será de tipo string.\n",
        "\n",
        "Entonces, será necesario **convertir el resultado cuando no se desea utilizar el valor como tipo string**."
      ],
      "metadata": {
        "id": "7z7hcLCk_aCY"
      }
    },
    {
      "cell_type": "markdown",
      "source": [
        "Existen funciones para la conversión de valores:\n",
        "\n",
        "- Enteros: [`int(dato_para_conversion)`](https://docs.python.org/3/library/functions.html#int)\n",
        "- Coma flotante: [`float(dato_para_conversion)`](https://docs.python.org/3/library/functions.html#float)\n",
        "- String: [`str(dato_para_conversion)`](https://docs.python.org/3/library/functions.html#func-str)\n",
        "- Booleano: [`bool(dato_para_conversion)`](https://docs.python.org/3/library/functions.html#bool)"
      ],
      "metadata": {
        "id": "TOlegATj1Jfp"
      }
    },
    {
      "cell_type": "code",
      "source": [
        "anio_admision=input(\"¿En qué año ingresaste a la escuela? \")"
      ],
      "metadata": {
        "id": "M2ueeH6l_NMe",
        "colab": {
          "base_uri": "https://localhost:8080/"
        },
        "outputId": "7019cd58-3d0e-4f5b-bcfe-c00752a88563"
      },
      "execution_count": null,
      "outputs": [
        {
          "name": "stdout",
          "output_type": "stream",
          "text": [
            "¿En qué año ingresaste a la escuela? 1997\n"
          ]
        }
      ]
    },
    {
      "cell_type": "code",
      "source": [
        "type(anio_admision)"
      ],
      "metadata": {
        "id": "xfWwuViK_NUn",
        "colab": {
          "base_uri": "https://localhost:8080/"
        },
        "outputId": "6ff0661d-c523-40d1-a96e-cc2dab34caae"
      },
      "execution_count": null,
      "outputs": [
        {
          "output_type": "execute_result",
          "data": {
            "text/plain": [
              "str"
            ]
          },
          "metadata": {},
          "execution_count": 77
        }
      ]
    },
    {
      "cell_type": "code",
      "source": [
        "anio_salida=input(\"¿En qué año terminaste la escuela? \")"
      ],
      "metadata": {
        "id": "uFCHDyew_NZm",
        "colab": {
          "base_uri": "https://localhost:8080/"
        },
        "outputId": "ecd47f90-1028-4025-fe6e-975657a762ba"
      },
      "execution_count": null,
      "outputs": [
        {
          "name": "stdout",
          "output_type": "stream",
          "text": [
            "¿En qué año terminaste la escuela? 2025\n"
          ]
        }
      ]
    },
    {
      "cell_type": "code",
      "source": [
        "type(anio_salida)"
      ],
      "metadata": {
        "colab": {
          "base_uri": "https://localhost:8080/"
        },
        "id": "U-AIIX-8iJxu",
        "outputId": "8a8ac4eb-3090-4e93-add8-361de50b341b"
      },
      "execution_count": null,
      "outputs": [
        {
          "output_type": "execute_result",
          "data": {
            "text/plain": [
              "str"
            ]
          },
          "metadata": {},
          "execution_count": 79
        }
      ]
    },
    {
      "cell_type": "code",
      "source": [
        "anio_admision+anio_salida"
      ],
      "metadata": {
        "colab": {
          "base_uri": "https://localhost:8080/",
          "height": 35
        },
        "id": "8sRSXkpdiMwP",
        "outputId": "a8a876f8-8244-4863-f0f5-651d9b4d4891"
      },
      "execution_count": null,
      "outputs": [
        {
          "output_type": "execute_result",
          "data": {
            "text/plain": [
              "'19972025'"
            ],
            "application/vnd.google.colaboratory.intrinsic+json": {
              "type": "string"
            }
          },
          "metadata": {},
          "execution_count": 80
        }
      ]
    },
    {
      "cell_type": "code",
      "source": [
        "anio_admision=int(input(\"¿En qué año ingresaste a la escuela? \"))"
      ],
      "metadata": {
        "colab": {
          "base_uri": "https://localhost:8080/"
        },
        "outputId": "b3a80594-17a6-4fc3-ab1f-c46ce3989c46",
        "id": "bhdc43RmiuzS"
      },
      "execution_count": null,
      "outputs": [
        {
          "name": "stdout",
          "output_type": "stream",
          "text": [
            "¿En qué año ingresaste a la escuela? 1997\n"
          ]
        }
      ]
    },
    {
      "cell_type": "code",
      "source": [
        "type(anio_admision)"
      ],
      "metadata": {
        "colab": {
          "base_uri": "https://localhost:8080/"
        },
        "outputId": "db031dee-2452-488e-fb9e-f5e0ce3d56d9",
        "id": "VTc0x1VRiuzS"
      },
      "execution_count": null,
      "outputs": [
        {
          "output_type": "execute_result",
          "data": {
            "text/plain": [
              "int"
            ]
          },
          "metadata": {},
          "execution_count": 82
        }
      ]
    },
    {
      "cell_type": "code",
      "source": [
        "nota_admision=float(input(\"Digita la nota de admision: \"))"
      ],
      "metadata": {
        "colab": {
          "base_uri": "https://localhost:8080/"
        },
        "outputId": "d98af232-9bcc-461d-c1b6-10764a2da974",
        "id": "C7-iEWB_iuzS"
      },
      "execution_count": null,
      "outputs": [
        {
          "name": "stdout",
          "output_type": "stream",
          "text": [
            "Digita la nota de admision: 9.5\n"
          ]
        }
      ]
    },
    {
      "cell_type": "code",
      "source": [
        "type(nota_admision)"
      ],
      "metadata": {
        "outputId": "6f9eccbe-f3d4-4efe-bb02-834801312cf6",
        "colab": {
          "base_uri": "https://localhost:8080/"
        },
        "id": "flngij1ZiuzT"
      },
      "execution_count": null,
      "outputs": [
        {
          "output_type": "execute_result",
          "data": {
            "text/plain": [
              "float"
            ]
          },
          "metadata": {},
          "execution_count": 88
        }
      ]
    },
    {
      "cell_type": "markdown",
      "source": [
        "Trataremos de representar mejor ahora el resultado de la transformación que obtuvimos. Nosotros podemos formatear y presentar nuestro resultado mezclando strings con valores no textuales.\n",
        "\n",
        "Para ello utilizamos la estructura de formatación `f` con strings."
      ],
      "metadata": {
        "id": "yNI2-XTbB3aS"
      }
    },
    {
      "cell_type": "code",
      "source": [
        "print(f\"\\n\\tEl anio de admision fue:  {anio_admision} \\n\\tLa nota de admision fue: {nota_admision}  \")"
      ],
      "metadata": {
        "id": "keJjA5N9_K5i",
        "colab": {
          "base_uri": "https://localhost:8080/"
        },
        "outputId": "c3b8e470-65c6-43f4-fcf2-d8a1b1675a9c"
      },
      "execution_count": null,
      "outputs": [
        {
          "output_type": "stream",
          "name": "stdout",
          "text": [
            "\n",
            "\tEl anio de admision fue:  1997 \n",
            "\tLa nota de admision fue: 9.5  \n"
          ]
        }
      ]
    },
    {
      "cell_type": "markdown",
      "source": [
        "https://www.unicode.org/versions/stats/"
      ],
      "metadata": {
        "id": "XgIZBTyOl8We"
      }
    },
    {
      "cell_type": "markdown",
      "source": [
        "Python es un lenguaje de programación caracterizado por el uso del estándar Unicode de caracteres. Este estándar permite que desarrolladores de todo el mundo trabajen con textos y caracteres en diferentes idiomas de manera muy sencilla, sin preocuparse por problemas de compatibilidad.\n",
        "\n",
        "Esto fue posible gracias al desarrollo de la tabla Unicode, una tabla de codificación de caracteres que asocia códigos numéricos con caracteres específicos. Su objetivo era incluir caracteres de todos los idiomas y sistemas de escritura existentes en el mundo. Hasta la versión 15.0, el estándar ya agrupa más de 140,000 caracteres, que incluyen letras, números, símbolos y emojis. Puedes ver las estadísticas de cada versión y la cantidad de caracteres por versión en este enlace.\n",
        "\n",
        "Además, Unicode surgió como una alternativa a otras tablas de caracteres, como ASCII, que solo admite caracteres del alfabeto inglés y algunos símbolos. Por lo tanto, es muy importante ya que permite la representación de caracteres de diferentes idiomas (como la \"ç\" en portugués, la \"ñ\" en español o la \"П\" en ruso) y scripts de manera consistente e independiente del dispositivo o plataforma, lo que es fundamental para la globalización y la representación precisa de textos en diferentes idiomas.\n",
        "\n",
        "Es importante recordar que la tabla Unicode se actualiza y se expande constantemente, incluyendo nuevos caracteres y scripts. Esto asegura que siga siendo relevante y útil para admitir la representación de todos los idiomas y sistemas de escritura del mundo. Puedes seguir las actualizaciones en el sitio unicode.org y acceder a las codificaciones de cada carácter de este estándar en la Wikipedia o en documentos oficiales en PDF.\n",
        "\n",
        "Podemos imprimir un elemento de la tabla Unicode en nuestro cuaderno utilizando la función chr, que devuelve una cadena con el carácter especificado. Su sintaxis es la siguiente: chr(número_del_carácter). Por ejemplo, vamos a imprimir el carácter \"@\" con chr(). Según la tabla, sabemos que \"@\" corresponde al número 64, así que lo reprodujimos:"
      ],
      "metadata": {
        "id": "tzt9Sp4cmeKP"
      }
    },
    {
      "cell_type": "code",
      "source": [
        "chr(64)"
      ],
      "metadata": {
        "id": "FvilMgJ_mcd_",
        "outputId": "78c719aa-4468-4fe0-c719-31292a1af6a7",
        "colab": {
          "base_uri": "https://localhost:8080/",
          "height": 35
        }
      },
      "execution_count": null,
      "outputs": [
        {
          "output_type": "execute_result",
          "data": {
            "text/plain": [
              "'@'"
            ],
            "application/vnd.google.colaboratory.intrinsic+json": {
              "type": "string"
            }
          },
          "metadata": {},
          "execution_count": 94
        }
      ]
    },
    {
      "cell_type": "code",
      "source": [
        "chr(72) + chr(111) +  chr(108) + chr(97)"
      ],
      "metadata": {
        "id": "JYZDsNcomlNh",
        "outputId": "6a49684e-eeea-48f6-f89e-a5fe2a04dee0",
        "colab": {
          "base_uri": "https://localhost:8080/",
          "height": 35
        }
      },
      "execution_count": null,
      "outputs": [
        {
          "output_type": "execute_result",
          "data": {
            "text/plain": [
              "'Hola'"
            ],
            "application/vnd.google.colaboratory.intrinsic+json": {
              "type": "string"
            }
          },
          "metadata": {},
          "execution_count": 95
        }
      ]
    },
    {
      "cell_type": "markdown",
      "source": [
        "Podemos visualizar el resultado de variables dentro de cadenas de texto, así como imprimir el texto final con un print. Durante la lección, aprendimos a utilizar la f-string (formateo de cadena), en la que colocamos una f antes de crear la cadena y las variables se colocan entre llaves {}. Ejemplo:"
      ],
      "metadata": {
        "id": "EjHxPohsmpsF"
      }
    },
    {
      "cell_type": "code",
      "source": [
        "nombre = \"Ana María\"\n",
        "edad = 17\n",
        "print(f\"El nombre de la alumna es {nombre} y su edad es {edad} años.\")"
      ],
      "metadata": {
        "id": "KQOQ5KfGmtdv",
        "outputId": "96126044-790a-47e9-f97a-6300d626abb4",
        "colab": {
          "base_uri": "https://localhost:8080/"
        }
      },
      "execution_count": null,
      "outputs": [
        {
          "output_type": "stream",
          "name": "stdout",
          "text": [
            "El nombre de la alumna es Ana María y su edad es 17 años.\n"
          ]
        }
      ]
    },
    {
      "cell_type": "markdown",
      "source": [
        "Pero existen otros métodos de formateo, como el uso del operador de formateo de cadena o la función .format().\n",
        "\n",
        "Operador de Formateo:\n",
        "\n",
        "Este operador de formateo permite la inserción de variables en puntos específicos en la cadena de texto utilizando el operador %. Este operador funciona como un marcador, indicando dónde se expondrá el valor de la variable en la cadena.\n",
        "\n",
        "El % debe ir acompañado de una palabra clave para cada tipo de variable que se desee agregar (tabla).\n",
        "\n",
        "De esta manera, para insertar una variable, puedes agregar el operador en la cadena en el punto deseado. Luego del final de la cadena, agrega nuevamente el %, especificando la variable entre paréntesis. Podemos ver esta estructura en el ejemplo siguiente:"
      ],
      "metadata": {
        "id": "20Ctb5s_mzQt"
      }
    },
    {
      "cell_type": "code",
      "source": [
        "nombre_alumno = 'Penélope Camacho'\n",
        "print('Nombre del alumno: %s' %(nombre_alumno))"
      ],
      "metadata": {
        "id": "UCIS6jzTm_dv",
        "outputId": "549e0ae2-1497-40d2-e41c-55a5465d7096",
        "colab": {
          "base_uri": "https://localhost:8080/"
        }
      },
      "execution_count": null,
      "outputs": [
        {
          "output_type": "stream",
          "name": "stdout",
          "text": [
            "Nombre del alumno: Penélope Camacho\n"
          ]
        }
      ]
    },
    {
      "cell_type": "code",
      "source": [
        "nombre_alumno = 'Penélope Camacho'\n",
        "edad_alumno = 11\n",
        "media_alumno = 9.95\n",
        "print('Nombre del alumno es %s, tiene %d años y su media es %f.' %(nombre_alumno, edad_alumno, media_alumno))"
      ],
      "metadata": {
        "id": "W8VnW3K0nIVy",
        "outputId": "425d3fb2-ab66-4d3a-d918-6823849330e7",
        "colab": {
          "base_uri": "https://localhost:8080/"
        }
      },
      "execution_count": null,
      "outputs": [
        {
          "output_type": "stream",
          "name": "stdout",
          "text": [
            "Nombre del alumno es Penélope Camacho, tiene 11 años y su media es 9.950000.\n"
          ]
        }
      ]
    },
    {
      "cell_type": "markdown",
      "source": [
        "Cuando trabajamos con números de coma flotante (float), podemos determinar la cantidad de decimales después del punto utilizando la sintaxis %.xf, donde x es el número de decimales deseados. Utilizando las mismas variables del ejemplo anterior, el código con %.xf se vería así:"
      ],
      "metadata": {
        "id": "6Ny9ptvtnXXt"
      }
    },
    {
      "cell_type": "code",
      "source": [
        "print('Nombre del alumno es %s, tiene %d años y su media es %.2f.' %(nombre_alumno, edad_alumno, media_alumno))"
      ],
      "metadata": {
        "id": "445csGISnYMt",
        "outputId": "f2dea54a-a679-4586-8f70-f476c3ac2443",
        "colab": {
          "base_uri": "https://localhost:8080/"
        }
      },
      "execution_count": null,
      "outputs": [
        {
          "output_type": "stream",
          "name": "stdout",
          "text": [
            "Nombre del alumno es Penélope Camacho, tiene 11 años y su media es 9.95.\n"
          ]
        }
      ]
    },
    {
      "cell_type": "markdown",
      "source": [
        "Un detalle importante es que los operadores de formateo de cadena con % no funcionan directamente con valores booleanos. Una forma de manejarlo es convirtiendo el valor booleano en una cadena antes de utilizarlo en el formateo con la función str(). Por ejemplo:"
      ],
      "metadata": {
        "id": "nBsHUPCjndAH"
      }
    },
    {
      "cell_type": "code",
      "source": [
        "x = True\n",
        "print(\"Valor de x: %s\" % str(x))"
      ],
      "metadata": {
        "id": "BU1x3w_cndhZ",
        "outputId": "3a8a53c0-8b3d-4531-f111-07e55d3cedf8",
        "colab": {
          "base_uri": "https://localhost:8080/"
        }
      },
      "execution_count": null,
      "outputs": [
        {
          "output_type": "stream",
          "name": "stdout",
          "text": [
            "Valor de x: True\n"
          ]
        }
      ]
    },
    {
      "cell_type": "markdown",
      "source": [
        "Método .format():\n",
        "\n",
        "También es posible utilizar el método .format() para formatear cadenas. Es más flexible y permite pasar las variables directamente dentro de la cadena, sin necesidad de operadores %. Los marcadores son simplemente {}. Por ejemplo:"
      ],
      "metadata": {
        "id": "zQynBbbMnszr"
      }
    },
    {
      "cell_type": "code",
      "source": [
        "nombre_alumno = 'Penélope Camacho'\n",
        "print('Nombre del alumno: {}'.format(nombre_alumno))"
      ],
      "metadata": {
        "id": "DWl5BYfBntoz",
        "outputId": "819931da-9982-4418-e44e-239bfd908019",
        "colab": {
          "base_uri": "https://localhost:8080/"
        }
      },
      "execution_count": null,
      "outputs": [
        {
          "output_type": "stream",
          "name": "stdout",
          "text": [
            "Nombre del alumno: Penélope Camacho\n"
          ]
        }
      ]
    },
    {
      "cell_type": "code",
      "source": [
        "nombre_alumno = 'Fabricio Daniel'\n",
        "edad_alumno = 15\n",
        "media_alumno = 9.95\n",
        "print('Nombre del alumno es {}, tiene {} años y su media es {}.' .format(nombre_alumno, edad_alumno, media_alumno))"
      ],
      "metadata": {
        "id": "-XA0Mgzln3N1"
      },
      "execution_count": null,
      "outputs": []
    },
    {
      "cell_type": "markdown",
      "source": [
        "Nota que con .format(), no tienes el problema de los decimales de coma flotante. Tampoco tienes este problema con las f-strings.\n",
        "\n",
        "En resumen, cada uno de estos métodos tiene sus ventajas y desventajas. Se recomienda utilizar f-strings, ya que son más legibles y fáciles de usar. Sin embargo, cada desarrollador puede elegir el método que le parezca más apropiado.\n",
        "\n",
        "Caracteres Especiales:\n",
        "\n",
        "Además de la formateo de inserción de variables en una cadena, también existen caracteres especiales. Se utilizan para representar acciones especiales o caracteres que no se pueden escribir directamente, como el “Enter” y la tabulación. A continuación, presentamos algunos de ellos. Intenta replicar todos los ejemplos y observa el resultado final.\n",
        "\n",
        "\\n es el carácter de nueva línea y se usa para saltar una línea en el texto (similar a la función \"Enter\"). Ejemplo:"
      ],
      "metadata": {
        "id": "khWROE4noAYl"
      }
    },
    {
      "cell_type": "code",
      "source": [
        "print(\"Estudiar es un esfuerzo constante,\\nEs como cultivar una planta,\\nNecesitamos dedicación y paciencia,\\nPara ver madurar el fruto.\")"
      ],
      "metadata": {
        "id": "Q0BEuHuAoBPA",
        "outputId": "a93eaa81-c0b7-4095-c8db-14c40cfadcd8",
        "colab": {
          "base_uri": "https://localhost:8080/"
        }
      },
      "execution_count": null,
      "outputs": [
        {
          "output_type": "stream",
          "name": "stdout",
          "text": [
            "Estudiar es un esfuerzo constante,\n",
            "Es como cultivar una planta,\n",
            "Necesitamos dedicación y paciencia,\n",
            "Para ver madurar el fruto.\n"
          ]
        }
      ]
    },
    {
      "cell_type": "markdown",
      "source": [
        "\\t es el carácter de tabulación y se utiliza para agregar un espacio de tabulación en el texto. Ejemplo:"
      ],
      "metadata": {
        "id": "nOoKgJjnoQQC"
      }
    },
    {
      "cell_type": "code",
      "source": [
        "print('Cantidad\\tCalidad\\n5 muestras\\tAlta\\n3 muestras\\tBaja')"
      ],
      "metadata": {
        "id": "fst1hHDLoQ0c",
        "outputId": "324aed0b-5641-4957-d270-5647db437059",
        "colab": {
          "base_uri": "https://localhost:8080/"
        }
      },
      "execution_count": null,
      "outputs": [
        {
          "output_type": "stream",
          "name": "stdout",
          "text": [
            "Cantidad\tCalidad\n",
            "5 muestras\tAlta\n",
            "3 muestras\tBaja\n"
          ]
        }
      ]
    },
    {
      "cell_type": "markdown",
      "source": [
        "Doble (\"barra\") se usa para imprimir una sola barra invertida. Si no se utiliza una doble barra invertida, el código podría generar un error o un resultado inesperado, ya que Python considera \\ como un carácter especial. Usamos esta sintaxis para garantizar que no ocurran errores. Ejemplo:"
      ],
      "metadata": {
        "id": "74tYe_QdoXxw"
      }
    },
    {
      "cell_type": "code",
      "source": [
        "print(\"Ruta del archivo: C:\\\\archivos\\\\documento.csv\")"
      ],
      "metadata": {
        "id": "SbHcTbvioYf8",
        "outputId": "d49e8a78-cbeb-44a1-bad3-282f49e76fe9",
        "colab": {
          "base_uri": "https://localhost:8080/"
        }
      },
      "execution_count": null,
      "outputs": [
        {
          "output_type": "stream",
          "name": "stdout",
          "text": [
            "Ruta del archivo: C:\\archivos\\documento.csv\n"
          ]
        }
      ]
    },
    {
      "cell_type": "markdown",
      "source": [
        "(\"barra\") y una comilla doble(\") se utiliza para imprimir comillas dobles cuando estamos trabajando con una cadena creada con comillas dobles \" en el interior. Sin embargo, esto no es necesario si la cadena se crea con comillas simples '. Ejemplo:"
      ],
      "metadata": {
        "id": "jub8TMsOovRU"
      }
    },
    {
      "cell_type": "code",
      "source": [
        "print(\"Una vez oí: \\'Los frutos del conocimiento son los más dulces y duraderos de todos.\\'\")"
      ],
      "metadata": {
        "id": "HmduaM-Jo11f",
        "outputId": "308dde98-6c20-4188-ffe4-e144adb4b145",
        "colab": {
          "base_uri": "https://localhost:8080/"
        }
      },
      "execution_count": null,
      "outputs": [
        {
          "output_type": "stream",
          "name": "stdout",
          "text": [
            "Una vez oí: 'Los frutos del conocimiento son los más dulces y duraderos de todos.'\n"
          ]
        }
      ]
    },
    {
      "cell_type": "markdown",
      "source": [
        "una barra y ' se utiliza para imprimir comillas simples cuando estamos trabajando con una cadena creada con comillas simples '. Si la cadena se crea con comillas dobles \", esto no es necesario. Ejemplo:"
      ],
      "metadata": {
        "id": "iPRKIOeNpO_B"
      }
    },
    {
      "cell_type": "code",
      "source": [
        "print(\"Mi profesora una vez dijo: \\'Estudiar es la clave del éxito.\\'\")"
      ],
      "metadata": {
        "id": "5Gby5ZA0pUFK",
        "outputId": "52b52214-03ef-4547-b3e7-eb7f9fc5058c",
        "colab": {
          "base_uri": "https://localhost:8080/"
        }
      },
      "execution_count": null,
      "outputs": [
        {
          "output_type": "stream",
          "name": "stdout",
          "text": [
            "Mi profesora una vez dijo: 'Estudiar es la clave del éxito.'\n"
          ]
        }
      ]
    },
    {
      "cell_type": "markdown",
      "source": [
        "# Estructuras condicionales"
      ],
      "metadata": {
        "id": "NwRaiHHHhhyl"
      }
    },
    {
      "cell_type": "markdown",
      "source": [
        "## `IF` y `ELSE`\n",
        "\n",
        "Los comandos `if` y `else` son dos estructuras condicionales. El comando `if` ejecutará el bloque de comandos en caso de que la condición citada sea  **verdadera**. El comando `else` ejecutará el bloque de comandos en el caso de que la condicional de `if` sea **falsa**."
      ],
      "metadata": {
        "id": "qXZqg9aYEhAh"
      }
    },
    {
      "cell_type": "markdown",
      "source": [
        "El comando `if` es una palabra clave en Python que significa \"si\". Este se emplea para conformar la estructura condicional, que te permite verificar si una determinada condición es verdadera o falsa e, inmediatamente después, ejecute un bloque de código específico dependiendo del resultado de la verificación. La sintaxis para usar el comando `if` es:\n",
        "\n",
        "\n",
        "\n",
        "```\n",
        "if condicion:\n",
        "    # Realiza algo\n",
        "```\n",
        "\n"
      ],
      "metadata": {
        "id": "EIhlqHXd2Gil"
      }
    },
    {
      "cell_type": "code",
      "source": [
        "if (2<7):\n",
        "  print(\"Verdadero\")"
      ],
      "metadata": {
        "id": "S2S6XAFz-czM",
        "colab": {
          "base_uri": "https://localhost:8080/"
        },
        "outputId": "775e985b-745d-472a-f426-242a068ccad8"
      },
      "execution_count": null,
      "outputs": [
        {
          "output_type": "stream",
          "name": "stdout",
          "text": [
            "Verdadero\n"
          ]
        }
      ]
    },
    {
      "cell_type": "code",
      "source": [
        "if (2>7):\n",
        "  print(\"Verdadero\")\n",
        "print(\"Fin de la consulta.\")"
      ],
      "metadata": {
        "id": "YHkwMMyY-c1r",
        "colab": {
          "base_uri": "https://localhost:8080/"
        },
        "outputId": "d2d58cf8-9e09-4cb3-e553-895e411ff3c3"
      },
      "execution_count": null,
      "outputs": [
        {
          "output_type": "stream",
          "name": "stdout",
          "text": [
            "Fin de la consulta.\n"
          ]
        }
      ]
    },
    {
      "cell_type": "markdown",
      "source": [
        "Ya el comando `else` en Python se usa en junción con la palabra clave `if` para formar una estructura condicional. la sintaxis para usar el `else` es:\n",
        "\n",
        "```\n",
        "if condicion:\n",
        "  # codigo en caso de que sea verdad\n",
        "else:\n",
        "  # codigo en caso de que sea falso\n",
        "```\n",
        "\n",
        "el comando `else` se ejecuta cuando la condición verificada por el `if` es evaluada como `False`."
      ],
      "metadata": {
        "id": "27RW2v_sIKct"
      }
    },
    {
      "cell_type": "code",
      "source": [
        "'''\n",
        "El signo de operacion se puede cambiar para alterar el resultado de print.\n",
        "'''\n",
        "if (2==7):\n",
        "  print(\"Verdadero\")\n",
        "else:\n",
        "  print (\"La condicion es falsa\")"
      ],
      "metadata": {
        "id": "ZTfNJd_f-aOq",
        "colab": {
          "base_uri": "https://localhost:8080/"
        },
        "outputId": "490bf3c5-4c92-4a37-8615-aa65781b2a77"
      },
      "execution_count": null,
      "outputs": [
        {
          "output_type": "stream",
          "name": "stdout",
          "text": [
            "La condicion es falsa\n"
          ]
        }
      ]
    },
    {
      "cell_type": "markdown",
      "source": [
        "---\n",
        "**Situación:**\n",
        "\n",
        "Recibiremos el promedio de la nota de los estudiantes y necesitamos de un algoritmo que ejecute el análisis y determine si el estudiante fue **Aprobado** o **Reprobado**, mostrando un mensaje del resultado. Para ser aprobado, el promedio necesita ser igual o superior a 7.0."
      ],
      "metadata": {
        "id": "BqORg85XX-Nl"
      }
    },
    {
      "cell_type": "code",
      "source": [
        "nota=float(input(\"¿Cuál es tu nota? \"))\n",
        "if(nota>=7):\n",
        "  print(\"Aprobado\")\n",
        "else:\n",
        "  print(\"Reprobado\")"
      ],
      "metadata": {
        "id": "UukCN4AQ-YYW",
        "colab": {
          "base_uri": "https://localhost:8080/"
        },
        "outputId": "b6b78a42-3ed1-4c64-c640-a9b6cc0f8f38"
      },
      "execution_count": null,
      "outputs": [
        {
          "output_type": "stream",
          "name": "stdout",
          "text": [
            "¿Cuál es tu nota? 0\n",
            "Reprobado\n"
          ]
        }
      ]
    },
    {
      "cell_type": "markdown",
      "source": [
        "##Diferente de (!=)\n",
        "Devuelve verdadero si el valor a la izquierda del símbolo es diferente del valor a la derecha. Su sintaxis, valor_1 != valor_2, representa una comparación que solo será verdadera si valor_1 es diferente de valor_2. Este operador es el inverso de ==. Con él, podemos verificar si dos libros tienen títulos diferentes mediante una comparación de cadenas."
      ],
      "metadata": {
        "id": "ETx_2i1vDybf"
      }
    },
    {
      "cell_type": "code",
      "source": [
        "libro_1 = input('Ingrese el título del 1° libro: ')\n",
        "libro_2 = input('Ingrese el título del 2° libro: ')\n",
        "\n",
        "if libro_1 != libro_2:\n",
        "  print('Los libros tienen títulos diferentes.')"
      ],
      "metadata": {
        "colab": {
          "base_uri": "https://localhost:8080/"
        },
        "id": "2sAfKtI-D6Ia",
        "outputId": "e07c65b6-a50a-4805-d951-35410b219d7a"
      },
      "execution_count": null,
      "outputs": [
        {
          "output_type": "stream",
          "name": "stdout",
          "text": [
            "Ingrese el título del 1° libro: Juan\n",
            "Ingrese el título del 2° libro: Alex\n",
            "Los libros tienen títulos diferentes.\n"
          ]
        }
      ]
    },
    {
      "cell_type": "markdown",
      "source": [
        "Ahora, nuestra institución educativa estableció que las personas que tengan el promedio entre 5.0 y 7.0 pueden participar del curso de **Recuperación** durante las vacaciones para lograr aprobar.\n",
        "\n",
        "Entonces podemos apoyarnos en un conjunto de `if`s para poder estructurar esta nueva condición."
      ],
      "metadata": {
        "id": "bD9O17HB6LUo"
      }
    },
    {
      "cell_type": "code",
      "source": [
        "nota=float(input(\"¿Cuál es tu nota? \"))\n",
        "if(nota>=7):\n",
        "  print(\"Estas aprobado\")\n",
        "if(7>nota>=5):\n",
        "    print(\"Puedes participar en el curso de Recuperacion\")\n",
        "if(nota<5):\n",
        "    print(\"Reprobado\")"
      ],
      "metadata": {
        "id": "G9cJ5O9--W52",
        "colab": {
          "base_uri": "https://localhost:8080/"
        },
        "outputId": "421aff66-a136-4ea4-a75b-8258e183537f"
      },
      "execution_count": null,
      "outputs": [
        {
          "output_type": "stream",
          "name": "stdout",
          "text": [
            "¿Cuál es tu nota? 4\n",
            "Reprobado\n"
          ]
        }
      ]
    },
    {
      "cell_type": "markdown",
      "source": [
        "Observa que en casos con 3 situaciones como este necesitamos definir bien nuestras condiciones. Pues, si realizamos una condición con `else` al final, este irá a considerar solamente la condición `if` inmediatamente anterior para generar la salida en caso de que el resultado de su operación lógica sea **falso** dando como resultado, dos o más ejecuciones.\n",
        "\n",
        "Por ejemplo:"
      ],
      "metadata": {
        "id": "D5e2mByjvycO"
      }
    },
    {
      "cell_type": "code",
      "source": [
        "nota=float(input(\"¿Cuál es tu nota? \"))\n",
        "if(nota>=7):\n",
        "  print(\"Estas aprobado\")\n",
        "if(7>nota>=5):\n",
        "    print(\"Puedes participar en el curso de Recuperacion\")\n",
        "else:\n",
        "    print(\"Reprobado\")"
      ],
      "metadata": {
        "id": "C21JmOuK-VU8",
        "colab": {
          "base_uri": "https://localhost:8080/"
        },
        "outputId": "7c8b9090-87d8-4537-856d-2338a209bc58"
      },
      "execution_count": null,
      "outputs": [
        {
          "output_type": "stream",
          "name": "stdout",
          "text": [
            "¿Cuál es tu nota? 6.9\n",
            "Puedes participar en el curso de Recuperacion\n"
          ]
        }
      ]
    },
    {
      "cell_type": "markdown",
      "source": [
        "## `ELIF`\n",
        "\n",
        "El comando `elif` es una palabra clave en Python que significa \"si no, si\" y lo podemos considerar una *contracción* entre `else` e `if`. Se utiliza en conjunto con la palabra clave `if` para formar una estructura condicional en cadena."
      ],
      "metadata": {
        "id": "04T5g-7h4zWx"
      }
    },
    {
      "cell_type": "markdown",
      "source": [
        "la sintaxis para utilizar el comando `elif` es:\n",
        "\n",
        "```\n",
        "if condicion1:\n",
        "    # Realiza algo\n",
        "elif condicion2:\n",
        "    # Realiza otra cosa\n",
        "elif condicion3:\n",
        "    # Realiza otra cosa\n",
        "else:\n",
        "    # Realiza algo diferente\n",
        "```\n",
        "\n",
        "El comando `elif` permite que puedas verificar varias condiciones en cadena, economizando espacio en tu código. Si la primera condición se evalúa como `False`, el interpretador de Python evaluará la próxima condición con el `elif`. Ello continuará hasta que una condición sea evaluada como `True` o hasta que el `else` sea alcazado. Si ninguna de las condiciones es evaluada como `True`, la ejecución del código del comando `else` será iniciada."
      ],
      "metadata": {
        "id": "rNBHr5mm1Lm6"
      }
    },
    {
      "cell_type": "markdown",
      "source": [
        "Vamos a emplear el mismo caso anterior:"
      ],
      "metadata": {
        "id": "MVoykFbB4bd4"
      }
    },
    {
      "cell_type": "code",
      "source": [
        "nota=float(input(\"¿Cuál es tu nota? \"))\n",
        "if(nota>=7):\n",
        "  print(\"Estas aprobado\")\n",
        "elif(7>nota>=5):\n",
        "    print(\"Puedes participar en el curso de Recuperacion\")\n",
        "else:\n",
        "    print(\"Reprobado\")"
      ],
      "metadata": {
        "id": "QFamB78s-TW_",
        "colab": {
          "base_uri": "https://localhost:8080/"
        },
        "outputId": "4d6c651e-fff6-4928-c03e-42972da4417c"
      },
      "execution_count": null,
      "outputs": [
        {
          "output_type": "stream",
          "name": "stdout",
          "text": [
            "¿Cuál es tu nota? 8\n",
            "Estas aprobado\n"
          ]
        }
      ]
    },
    {
      "cell_type": "markdown",
      "source": [
        "## Operadores\n",
        "\n",
        "Durante la construcción de comandos a veces necesitamos de una elaboración mayor de la expresión condicional, necesitando que algunos operadores lógicos se encuentren integrados."
      ],
      "metadata": {
        "id": "Tf1wSOem6iwZ"
      }
    },
    {
      "cell_type": "markdown",
      "source": [
        "### `AND`, `OR`, `NOT`\n",
        "\n",
        "Los operadores lógicos `and`, `or` y `not` son usados para combinar expresiones lógicas en Python. Ellos son usados frecuentemente en conjunto con el comando `if` para crear estructuras condicionales más complejas.\n"
      ],
      "metadata": {
        "id": "GFIZnRWXGPWO"
      }
    },
    {
      "cell_type": "markdown",
      "source": [
        "- `AND` es usado para verificar si dos condiciones son verdaderas. La expresión lógica¹ `x and y` se evalúa como `True` tan solo si **ambas condiciones `x` y `y` son verdaderas**, y como `False` en caso contrario.\n",
        "\n",
        "- `OR` es usado para verificar si al menos una de las condiciones es verdadera. La expresión lógica `x or y` se evalúa como `True` **si al menos una de las condiciones `x` o `y` es verdadera**, y como `False` si ambas condiciones son falsas.\n",
        "\n",
        "- `NOT` es usado para **negar una condición**. La expresión lógica `not x` es evaluada como `True` si la condición x es falsa, y como `False` si la condición x es verdadera.\n",
        "\n",
        "¹ Una expresión lógica es una declaración que puede ser evaluada como verdadera o falsa. Ella se compone por operandos lógicos² y por operadores lógicos³, que son usados ​​para combinar varias expresiones lógicas en una única expresión.\n",
        "\n",
        "² Los operandos lógicos son los elementos que son comparados o evaluados en una expresión lógica. Ellos son generalmente valores verdaderos o falsos, pero también pueden ser expresiones lógicas más complejas. En Python, los operandos lógicos son los valores `True` y `False`.\n",
        "\n",
        "³ Los operadores lógicos son ls símbolos o palabras clave que son usados ​​para combinar varias expresiones lógicas en una única expresión. En Python, los operadores lógicos son `and`, `or` y `not`, bien como las palabras clave `if`, `elif` e `else`."
      ],
      "metadata": {
        "id": "Z_dgAoHXJbzB"
      }
    },
    {
      "cell_type": "markdown",
      "source": [
        "> Operadores lógicos más comunes\n",
        "\n",
        "|a|b|AND|OR|NOT|\n",
        "|-|-|-|-|-|\n",
        "|0|0|0|0|1\n",
        "|0|1|0|1|-\n",
        "|1|0|0|1|-\n",
        "|1|1|1|1|0\n"
      ],
      "metadata": {
        "id": "2E5aUogf-49u"
      }
    },
    {
      "cell_type": "code",
      "source": [
        "v=True\n",
        "f=False\n",
        "\n",
        "if v and f:\n",
        "  print(\"La condicion es verdadera\")\n",
        "else:\n",
        "  print(\"La condicion es falsa\")"
      ],
      "metadata": {
        "id": "DFKmpvmS-Pa6",
        "colab": {
          "base_uri": "https://localhost:8080/"
        },
        "outputId": "1b9394af-30fd-4e79-e7aa-8c0269ca7deb"
      },
      "execution_count": null,
      "outputs": [
        {
          "output_type": "stream",
          "name": "stdout",
          "text": [
            "La condicion es falsa\n"
          ]
        }
      ]
    },
    {
      "cell_type": "code",
      "source": [
        "v=True\n",
        "f=False\n",
        "\n",
        "if v or f:\n",
        "  print(\"La condicion es verdadera\")\n",
        "else:\n",
        "  print(\"La condicion es falsa\")"
      ],
      "metadata": {
        "id": "W5BIrpOD-PeI",
        "colab": {
          "base_uri": "https://localhost:8080/"
        },
        "outputId": "755c44d9-831d-45d7-af87-ab58a26ca5cb"
      },
      "execution_count": null,
      "outputs": [
        {
          "output_type": "stream",
          "name": "stdout",
          "text": [
            "La condicion es verdadera\n"
          ]
        }
      ]
    },
    {
      "cell_type": "code",
      "source": [
        "v=True\n",
        "f=False\n",
        "\n",
        "if not f:\n",
        "  print(\"La condicion es verdadera\")"
      ],
      "metadata": {
        "id": "fpDhYxq4-PiM",
        "colab": {
          "base_uri": "https://localhost:8080/"
        },
        "outputId": "99a22a46-3423-45e9-c47a-b405557b336c"
      },
      "execution_count": null,
      "outputs": [
        {
          "output_type": "stream",
          "name": "stdout",
          "text": [
            "La condicion es verdadera\n"
          ]
        }
      ]
    },
    {
      "cell_type": "markdown",
      "source": [
        "### `IN`\n",
        "\n",
        "Es usado para verificar si un elemento está presente en una lista, tupla u otra colección de conjunto. La expresión `x in y` se evalúa como `True` si el elemento `x` esta presente en la variable de conjunto `y`, y como `False` en caso contrario."
      ],
      "metadata": {
        "id": "w7EXG1dhWtja"
      }
    },
    {
      "cell_type": "markdown",
      "source": [
        "Podemos verificarlo con variables de texto.\n",
        "\n",
        "---\n",
        "\n",
        "**Situación:**\n",
        "\n",
        "En la escuela nos entregaron una lista con nombres de estudiantes que fueron aprobados según el promedio del semestre, pero es necesario verificar si algunos nombres están en esa lista para confirmar que los datos estén correctos.\n",
        "\n",
        "La lista distribuida puede ser observada a continuación:\n",
        "\n",
        "```\n",
        "lista = 'Juan Pérez, María González, Pedro Rodríguez, Ana López, Carlos Martínez,\n",
        "    Laura Sánchez, José García, Elena Fernández, Luis Morales, Carmen Torres,\n",
        "    David Ruiz, Isabel Ramírez, Javier Díaz, Sara Herrera, Miguel Castro,\n",
        "    Patricia Ortega, Francisco Vargas, Marta Jiménez, Manuel Medina, Rosa Molina,\n",
        "    Alejandro Silva, Silvia Ruiz, Andrés Torres, Natalia Soto, Diego Guerrero,\n",
        "    Paula Ríos, Ricardo Navarro, Alicia Cordero, Carlos Vidal, Lorena Gómez'\n",
        "```\n",
        "\n",
        "Los nombres que necesitas verificar son los siguientes:\n",
        "\n",
        "```\n",
        "nombre_1 = 'Miguel Castro'\n",
        "nombre_2 = 'Marcelo Noguera'\n",
        "```"
      ],
      "metadata": {
        "id": "enJNp6JenQbq"
      }
    },
    {
      "cell_type": "code",
      "source": [
        "lista = 'Juan Pérez, María González, Pedro Rodríguez, Ana López, Carlos Martínez,Laura Sánchez, José García, Elena Fernández, Luis Morales, Carmen Torres,David Ruiz, Isabel Ramírez, Javier Díaz, Sara Herrera, Miguel Castro,Patricia Ortega, Francisco Vargas, Marta Jiménez, Manuel Medina, Rosa Molina,Alejandro Silva, Silvia Ruiz, Andrés Torres, Natalia Soto, Diego Guerrero,Paula Ríos, Ricardo Navarro, Alicia Cordero, Carlos Vidal, Lorena Gómez'"
      ],
      "metadata": {
        "id": "GINbG3Fa-Mnb",
        "collapsed": true
      },
      "execution_count": null,
      "outputs": []
    },
    {
      "cell_type": "code",
      "source": [
        "nombre_1 = 'Miguel Castro'\n",
        "nombre_2 = 'Marcelo Noguera'"
      ],
      "metadata": {
        "id": "hk-RhNRT-Mp7"
      },
      "execution_count": null,
      "outputs": []
    },
    {
      "cell_type": "code",
      "source": [
        "if nombre_2 in lista:\n",
        "  print(\"El estudiante aprobo.\")\n",
        "else:\n",
        "  print(\"El estudiante reprobo.\")\n"
      ],
      "metadata": {
        "id": "6x-iqbU7I_xA",
        "outputId": "2dfe3daf-a4c3-4bc3-db9a-4ef7807c4014",
        "colab": {
          "base_uri": "https://localhost:8080/"
        }
      },
      "execution_count": null,
      "outputs": [
        {
          "output_type": "stream",
          "name": "stdout",
          "text": [
            "El estudiante reprobo.\n"
          ]
        }
      ]
    },
    {
      "cell_type": "markdown",
      "source": [
        "# Estructuras de repetición"
      ],
      "metadata": {
        "id": "aL1vJPewvwvz"
      }
    },
    {
      "cell_type": "markdown",
      "source": [
        "Cuando tenemos que ejecutar un mismo bloque de comandos durante varias ocasiones no es nada práctico hacerlo a mano.\n",
        "\n",
        "**Situación**: Nos fue solicitado obtener e imprimir el promedio de 2 notas de **3 estudiantes**:"
      ],
      "metadata": {
        "id": "VcPfCa8d-84t"
      }
    },
    {
      "cell_type": "code",
      "source": [
        "nota_1=float(input(\"¿Cuál es la 1° nota? \"))\n",
        "nota_2=float(input(\"¿Cuál es la 2° nota? \"))\n",
        "print(f\"El promedio del estudiante 1 es: {(nota_1+nota_2)/2}\")\n",
        "\n",
        "nota_1=float(input(\"¿Cuál es la 1° nota? \"))\n",
        "nota_2=float(input(\"¿Cuál es la 2° nota? \"))\n",
        "print(f\"El promedio del estudiante 2 es: {(nota_1+nota_2)/2}\")\n",
        "\n",
        "nota_1=float(input(\"¿Cuál es la 1° nota? \"))\n",
        "nota_2=float(input(\"¿Cuál es la 2° nota? \"))\n",
        "print(f\"El promedio del estudiante 3 es: {(nota_1+nota_2)/2}\")"
      ],
      "metadata": {
        "id": "xcx21IGT9qA0",
        "colab": {
          "base_uri": "https://localhost:8080/"
        },
        "outputId": "bd13efc4-438b-4d9d-9e7a-9dd978e29c59"
      },
      "execution_count": 1,
      "outputs": [
        {
          "output_type": "stream",
          "name": "stdout",
          "text": [
            "¿Cuál es la 1° nota? 4\n",
            "¿Cuál es la 2° nota? 7\n",
            "El promedio del estudiante 1 es: 5.5\n",
            "¿Cuál es la 1° nota? 9\n",
            "¿Cuál es la 2° nota? 8.8\n",
            "El promedio del estudiante 2 es: 8.9\n",
            "¿Cuál es la 1° nota? 7\n",
            "¿Cuál es la 2° nota? 10\n",
            "El promedio del estudiante 3 es: 8.5\n"
          ]
        }
      ]
    },
    {
      "cell_type": "markdown",
      "source": [
        "Ahora imaginemos una situación en que no son tan solo 3 estudiantes, sino 100 estudiantes. No sería nada interesante repetir el mismo código 100 veces, sino **ejecutar el mismo código 100 veces**.\n",
        "\n",
        "¡Esta estructura la logramos construir con lazos de repetición!"
      ],
      "metadata": {
        "id": "9puIuvUbFSFX"
      }
    },
    {
      "cell_type": "markdown",
      "source": [
        "## `WHILE`"
      ],
      "metadata": {
        "id": "uLO9-aE4-wx8"
      }
    },
    {
      "cell_type": "markdown",
      "source": [
        "El lazo `while` es una estructura de control de repetición en Python que permite ejecutar un bloque de código repetidamente mientras que una determinada condición sea verdadera. Su estructura es:\n",
        "\n",
        "\n",
        "\n",
        "```\n",
        "while condicion:\n",
        "    # bloque de codigo\n",
        "```\n",
        "\n",
        "Vamos a construir un ejemplo con un contador de 1 hasta 10.\n"
      ],
      "metadata": {
        "id": "rXZxDMiqHxm9"
      }
    },
    {
      "cell_type": "code",
      "source": [
        "contador=1\n",
        "\n",
        "while contador <=10:\n",
        "  print(contador)\n",
        "  ##contador=contador+1 (forma tradicional)\n",
        "  contador+=1 ##forma Python"
      ],
      "metadata": {
        "id": "Hd0ZSWxD9wCD",
        "colab": {
          "base_uri": "https://localhost:8080/"
        },
        "outputId": "cde2533e-e29d-4687-f82c-18d43c706ad0"
      },
      "execution_count": 4,
      "outputs": [
        {
          "output_type": "stream",
          "name": "stdout",
          "text": [
            "1\n",
            "2\n",
            "3\n",
            "4\n",
            "5\n",
            "6\n",
            "7\n",
            "8\n",
            "9\n",
            "10\n"
          ]
        }
      ]
    },
    {
      "cell_type": "markdown",
      "source": [
        "Ahora vamos a colectar las notas y promedios de cada alumno dentro del lazo `while`. Haremos un ejemplo con 3 promedios."
      ],
      "metadata": {
        "id": "W4KZPBJuIrut"
      }
    },
    {
      "cell_type": "code",
      "source": [
        "contador = 1\n",
        "while contador <= 3:\n",
        "  nota_1 = float(input(\"¿Cuál es la 1° nota? \"))\n",
        "  nota_2 = float(input(\"¿Cuál es la 2° nota? \"))\n",
        "  print(f\"El promedio del estudiante {contador} es: {(nota_1 + nota_2) / 2}\")\n",
        "  contador += 1"
      ],
      "metadata": {
        "id": "9T5eCLFx9wk6",
        "colab": {
          "base_uri": "https://localhost:8080/"
        },
        "outputId": "652fb021-2b75-49e2-c93a-7c9d5e8e6646"
      },
      "execution_count": 5,
      "outputs": [
        {
          "output_type": "stream",
          "name": "stdout",
          "text": [
            "¿Cuál es la 1° nota? 44\n",
            "¿Cuál es la 2° nota? 3.3\n",
            "El promedio del estudiante 1 es: 23.65\n",
            "¿Cuál es la 1° nota? 33\n",
            "¿Cuál es la 2° nota? 33\n",
            "El promedio del estudiante 2 es: 33.0\n",
            "¿Cuál es la 1° nota? 44\n",
            "¿Cuál es la 2° nota? 44\n",
            "El promedio del estudiante 3 es: 44.0\n"
          ]
        }
      ]
    },
    {
      "cell_type": "markdown",
      "source": [
        "\n",
        "Operador\t -- Descripción --- \tEjemplo\n",
        "-= --\tResta un valor de la variable precio --\t-= 5\n",
        "\n",
        "*= --\tMultiplica un valor por la variable precio --\t*= 3\n",
        "\n",
        "/= -- Divide la variable por un valor precio --\t/= 2\n",
        "\n",
        "//=\t-- Realiza una división entera de la variable por un valor precio --\t//= 6\n",
        "\n",
        "%= --\tCalcula el resto de la división del valor en la variable y asigna el resultado a la variable precio --\t%= 5"
      ],
      "metadata": {
        "id": "TIOZFNYxR2xn"
      }
    },
    {
      "cell_type": "markdown",
      "source": [
        "## `FOR`"
      ],
      "metadata": {
        "id": "WgAIaENMMfCP"
      }
    },
    {
      "cell_type": "markdown",
      "source": [
        "El lazo `for` es un tipo de estructura de control de flujo en Python que permite iterar sobre un conjunto de elementos. Su estructura es:\n",
        "\n",
        "\n",
        "\n",
        "```\n",
        "for elemento in conjunto:\n",
        "    # codigo a ser ejecutado para cada elemento\n",
        "```\n",
        "\n",
        "El lazo `for` itera sobre cada elemento del conjunto especificado y ejecuta el bloque de código dentro del lazo para cada elemento. Cuando el lazo llega al final del conjunto, este se interrumpe y el programa continúa la ejecución después del lazo.\n",
        "\n"
      ],
      "metadata": {
        "id": "HxrSZoRAMh-x"
      }
    },
    {
      "cell_type": "markdown",
      "source": [
        "El conjunto lo podemos generar con la función incorporada [`range()`](https://docs.python.org/3/library/functions.html#func-range). Se trata de una función capaz de generar una secuencia de números enteros. La estructura de esta función es:\n",
        "\n",
        "```\n",
        "range(inicio, fin, paso)\n",
        "```\n",
        "\n",
        "Según la documentación, `range()` genera una secuencia de números enteros a partir del valor del parámetro `inicio` hasta el valor del parámetro `fin`, de acuerdo con el valor del parámetro `paso`. Si `inicio` no es especificado, el valor por defecto es `0`. Si `paso` no es especificado, el valor por defecto es `1`.\n",
        "\n",
        "\n"
      ],
      "metadata": {
        "id": "6VgjyoQtPHBM"
      }
    },
    {
      "cell_type": "markdown",
      "source": [
        "Vamos a recrear el mismo contador `while` con el lazo `for`."
      ],
      "metadata": {
        "id": "ryn0hfdlUwC8"
      }
    },
    {
      "cell_type": "code",
      "source": [
        "'se requiere del 1 al 10 pero como empieza desde el 1, se debe considerar el 11'\n",
        "for n in range(1,11):\n",
        "  print(n)"
      ],
      "metadata": {
        "id": "KkL1wUIj9jL4",
        "colab": {
          "base_uri": "https://localhost:8080/"
        },
        "outputId": "69633f33-5d31-4e1b-bc94-66227cd72936"
      },
      "execution_count": 13,
      "outputs": [
        {
          "output_type": "stream",
          "name": "stdout",
          "text": [
            "1\n",
            "2\n",
            "3\n",
            "4\n",
            "5\n",
            "6\n",
            "7\n",
            "8\n",
            "9\n",
            "10\n"
          ]
        }
      ]
    },
    {
      "cell_type": "code",
      "source": [
        "for e in range (1,4):\n",
        "  print(f\"Estudiante {e}:\")\n",
        "  nota_1 = float(input(\"¿Cuál es la 1° nota? \"))\n",
        "  nota_2 = float(input(\"¿Cuál es la 2° nota? \"))\n",
        "  print(f\"El promedio del estudiante {e} es: {(nota_1 + nota_2) / 2}\")"
      ],
      "metadata": {
        "id": "uXIZnLSr9jOu",
        "colab": {
          "base_uri": "https://localhost:8080/"
        },
        "outputId": "5e275d52-b275-4c46-8595-b01992d589e3"
      },
      "execution_count": 15,
      "outputs": [
        {
          "output_type": "stream",
          "name": "stdout",
          "text": [
            "Estudiante 1:\n",
            "¿Cuál es la 1° nota? 5\n",
            "¿Cuál es la 2° nota? 4\n",
            "El promedio del estudiante 1 es: 4.5\n",
            "Estudiante 2:\n",
            "¿Cuál es la 1° nota? 7\n",
            "¿Cuál es la 2° nota? 5\n",
            "El promedio del estudiante 2 es: 6.0\n",
            "Estudiante 3:\n",
            "¿Cuál es la 1° nota? 4\n",
            "¿Cuál es la 2° nota? 4\n",
            "El promedio del estudiante 3 es: 4.0\n"
          ]
        }
      ]
    },
    {
      "cell_type": "markdown",
      "source": [
        " **`>>> Usa esta celda para mover <<<`**"
      ],
      "metadata": {
        "id": "2iUHQsJasJAk"
      }
    },
    {
      "cell_type": "markdown",
      "source": [
        "# Estructuras de datos"
      ],
      "metadata": {
        "id": "8noP8OJ0Vhux"
      }
    },
    {
      "cell_type": "markdown",
      "source": [
        "Un conjunto de elementos es una colección de items, que son almacenados juntos de manera organizada. Algunos ejemplos de conjuntos de elementos en Python son las listas, los strings y los diccionarios."
      ],
      "metadata": {
        "id": "xpEUkefTu8fY"
      }
    },
    {
      "cell_type": "markdown",
      "source": [
        "## Listas"
      ],
      "metadata": {
        "id": "THSg4KYLwxIb"
      }
    },
    {
      "cell_type": "markdown",
      "source": [
        "Las listas pueden almacenar una colección de items en orden. Ellas son delimitadas por corchetes `[]` y sus elementos son separados por comas.\n",
        "\n",
        "Estas pueden almacenar cualquier tipo de items, incluyendo números, strings, objetos, otras listas, entre otros. También nos permiten almacenar items de tipos de datos diferentes juntos en una única lista."
      ],
      "metadata": {
        "id": "dzpsiqrOyJcK"
      }
    },
    {
      "cell_type": "code",
      "source": [
        "lista = ['Penélope Camacho',9.5,9.0,9.7,True]\n",
        "lista"
      ],
      "metadata": {
        "id": "DO3TBj7nAYeG",
        "colab": {
          "base_uri": "https://localhost:8080/"
        },
        "outputId": "fbee2eb5-265e-4b5b-badf-a0dd9331074b"
      },
      "execution_count": null,
      "outputs": [
        {
          "output_type": "execute_result",
          "data": {
            "text/plain": [
              "['Penélope Camacho', 9.5, 9.0, 9.7, True]"
            ]
          },
          "metadata": {},
          "execution_count": 62
        }
      ]
    },
    {
      "cell_type": "code",
      "source": [],
      "metadata": {
        "id": "DO2ubP9N9D_2"
      },
      "execution_count": null,
      "outputs": []
    },
    {
      "cell_type": "markdown",
      "source": [
        "Las listas son organizadas en Python porque **cada elemento de la lista tiene un índice que indica su posición al interior de la lista**. Los índices comienzan en 0 van hasta el tamaño de la lista menos 1."
      ],
      "metadata": {
        "id": "qUz3sJNl6LgK"
      }
    },
    {
      "cell_type": "markdown",
      "source": [
        "Tenemos entonces 5 elementos con índices que varían de 0 a 4, ordenadamente:\n",
        "\n",
        "```\n",
        "#             [0]           [1]   [2]   [3]    [4]\n",
        "lista = ['Penélope Camacho', 9.5 , 9.0 , 9.7 , True]\n",
        "```\n",
        "\n",
        "En Python tenemos también los índices **negativos** que se inician en el último elemento con el valor de `-1` y avanzan en el universo de los negativos hasta llegar al 1° elemento:\n",
        "\n",
        "```\n",
        "#             [-5]         [-4]  [-3]  [-2]   [-1]\n",
        "lista = ['Penélope Camacho', 9.5 , 9.0 , 9.7 , True]\n",
        "```\n",
        "\n",
        "Logramos seleccionar separadamente cada elemento a través de sus respectivos índices. Colocando el nombre de la lista y en seguida el índice que será seleccionado."
      ],
      "metadata": {
        "id": "rLf-Qg526hFD"
      }
    },
    {
      "cell_type": "code",
      "source": [],
      "metadata": {
        "id": "4hco1Zqy88Kw"
      },
      "execution_count": null,
      "outputs": []
    },
    {
      "cell_type": "code",
      "source": [],
      "metadata": {
        "id": "M8lH0I2288Ph"
      },
      "execution_count": null,
      "outputs": []
    },
    {
      "cell_type": "markdown",
      "source": [
        "Una forma más dinámica de trabajar item a item en una lista es utilizando un lazo `for` para leer un elemento a la vez."
      ],
      "metadata": {
        "id": "6TaE1ijmBTCd"
      }
    },
    {
      "cell_type": "code",
      "source": [],
      "metadata": {
        "id": "rBx4Yu1786Sy"
      },
      "execution_count": null,
      "outputs": []
    },
    {
      "cell_type": "markdown",
      "source": [
        "**Situación**: La nota `9.0` de Penélope necesita ser ajustada pues ganó 1 punto en su última nota por participación en clase. Entonces es necesario realizar un cambio en el índice `2` de `9.0` a `10.0`."
      ],
      "metadata": {
        "id": "Dh1_HnIVvucY"
      }
    },
    {
      "cell_type": "code",
      "source": [],
      "metadata": {
        "id": "bVPoZg668z3T"
      },
      "execution_count": null,
      "outputs": []
    },
    {
      "cell_type": "code",
      "source": [],
      "metadata": {
        "id": "Jo_PBQ0g8z7D"
      },
      "execution_count": null,
      "outputs": []
    },
    {
      "cell_type": "markdown",
      "source": [
        "También podemos calcular el promedio del estudiante a partir de los datos que tenemos."
      ],
      "metadata": {
        "id": "53XduzXkycAf"
      }
    },
    {
      "cell_type": "code",
      "source": [],
      "metadata": {
        "id": "SIH61Rrb8yv4"
      },
      "execution_count": null,
      "outputs": []
    },
    {
      "cell_type": "markdown",
      "source": [
        "## Manipulación de listas\n",
        "\n",
        "Las listas son muy útiles en Python porque nos permiten almacenar y acceder a una colección de items de manera organizada y rápida. Estas también ofrecen muchos métodos útiles para manipular los itens almacenados, como adicionar, remover, clasificar y buscar elementos."
      ],
      "metadata": {
        "id": "d-iYr10-y4qw"
      }
    },
    {
      "cell_type": "markdown",
      "source": [
        "#### Cantidad de elementos\n",
        "\n",
        "Usamos la función [`len()`](https://docs.python.org/3/library/functions.html#len) para descubrir la cantidad de elementos de un conjunto."
      ],
      "metadata": {
        "id": "ZLqx9A97XVB_"
      }
    },
    {
      "cell_type": "code",
      "source": [],
      "metadata": {
        "id": "6q1Tmm7P8wQf"
      },
      "execution_count": null,
      "outputs": []
    },
    {
      "cell_type": "markdown",
      "source": [
        "#### Partición\n",
        "\n",
        "La partición de listas por indexación en Python es una técnica muy útil para seleccionar un subconjunto de elementos de una lista. Esta se realiza usando la sintaxis `lista[inicio:fin]`, donde `inicio` es el índice del primer elemento que será incluído en la partición `fin` es el índice del primer elemento que será excluído de la partición."
      ],
      "metadata": {
        "id": "Z5tpstlHJss3"
      }
    },
    {
      "cell_type": "code",
      "source": [],
      "metadata": {
        "id": "NctvJTTU8uV9"
      },
      "execution_count": null,
      "outputs": []
    },
    {
      "cell_type": "code",
      "source": [],
      "metadata": {
        "id": "bQZUwldj8uY2"
      },
      "execution_count": null,
      "outputs": []
    },
    {
      "cell_type": "markdown",
      "source": [
        "#### [`append()`](https://docs.python.org/3/tutorial/datastructures.html#:~:text=of%20list%20objects%3A-,list.append(x),-Add%20an%20item)\n",
        "\n",
        "Añade un elemento al final de la lista."
      ],
      "metadata": {
        "id": "O0RRyabkRzZC"
      }
    },
    {
      "cell_type": "code",
      "source": [],
      "metadata": {
        "id": "_Q0oODwa8spC"
      },
      "execution_count": null,
      "outputs": []
    },
    {
      "cell_type": "code",
      "source": [],
      "metadata": {
        "id": "RM894r2M8sse"
      },
      "execution_count": null,
      "outputs": []
    },
    {
      "cell_type": "markdown",
      "source": [
        "#### [`extend()`](https://docs.python.org/3/tutorial/datastructures.html#:~:text=list.extend(iterable))\n",
        "\n",
        "Añade varios elementos al final de la lista.\n",
        "\n",
        "Añadiremos las notas `[10.0,8.0,9.0]` En la lista de Penélope Camacho."
      ],
      "metadata": {
        "id": "uQV91XMsUOJD"
      }
    },
    {
      "cell_type": "code",
      "source": [],
      "metadata": {
        "id": "6Zk2MpMw8rQc"
      },
      "execution_count": null,
      "outputs": []
    },
    {
      "cell_type": "code",
      "source": [],
      "metadata": {
        "id": "NnoKkoWb8rTQ"
      },
      "execution_count": null,
      "outputs": []
    },
    {
      "cell_type": "markdown",
      "source": [
        "*A continuación te mostraremos lo que no puede realizarse con* `append`."
      ],
      "metadata": {
        "id": "IVJvkTwNUk6M"
      }
    },
    {
      "cell_type": "code",
      "source": [],
      "metadata": {
        "id": "u3Eub2ZL8pp3"
      },
      "execution_count": null,
      "outputs": []
    },
    {
      "cell_type": "code",
      "source": [],
      "metadata": {
        "id": "tsKK5Ne58pvN"
      },
      "execution_count": null,
      "outputs": []
    },
    {
      "cell_type": "markdown",
      "source": [
        "#### [`remove()`](https://docs.python.org/3/tutorial/datastructures.html#:~:text=append(x).-,list.remove(x),-Remove%20the%20first)\n",
        "\n",
        "Remueve un elemento específico de la lista."
      ],
      "metadata": {
        "id": "dPGM5gpyUX1z"
      }
    },
    {
      "cell_type": "code",
      "source": [],
      "metadata": {
        "id": "mmboODPc8nd5"
      },
      "execution_count": null,
      "outputs": []
    },
    {
      "cell_type": "code",
      "source": [],
      "metadata": {
        "id": "T_w6vVgV8nh_"
      },
      "execution_count": null,
      "outputs": []
    },
    {
      "cell_type": "markdown",
      "source": [
        "## Diccionario"
      ],
      "metadata": {
        "id": "Rc22Vc08YDZ2"
      }
    },
    {
      "cell_type": "markdown",
      "source": [
        "Los diccionarios son un tipo de estructura de datos que almacenan pares de *llave-valor*. Estos son delimitados por llaves `{}` y los pares *llave-valor* son separados por comas.\n",
        "\n",
        "```\n",
        "diccionario = {llave: valor}\n",
        "```\n",
        "\n",
        "La **llave** es un elemento único que identifica a un valor en el diccionario, mientras que el **valor** es el item que será almacenado para la llave. Las llaves y sus respectivos valores se pueden emplear para **cualquier tipo de dato**.\n",
        "\n",
        "Los diccionarios son útiles para almacenar y acceder a los datos de manera organizada y rápida. Se trata de un tipo de conjunto de elementos en Python, pues almacenan una colección de items."
      ],
      "metadata": {
        "id": "PJ-cCKPjeWxL"
      }
    },
    {
      "cell_type": "code",
      "source": [],
      "metadata": {
        "id": "NDHhzooE8ld5"
      },
      "execution_count": null,
      "outputs": []
    },
    {
      "cell_type": "code",
      "source": [],
      "metadata": {
        "id": "AVOzqzy-8lhh"
      },
      "execution_count": null,
      "outputs": []
    },
    {
      "cell_type": "markdown",
      "source": [
        "---\n",
        "**Situación:**\n",
        "\n",
        "Vamos a crear un conjunto de datos con las informaciones de matrícula de un estudiante. Los datos son los siguientes:\n",
        "\n",
        "- matrícula: 2000168933\n",
        "- día de registro: 25\n",
        "- mes de registro: 10\n",
        "- grupo: 2E"
      ],
      "metadata": {
        "id": "_JbQ3KMKfkXU"
      }
    },
    {
      "cell_type": "code",
      "source": [],
      "metadata": {
        "id": "0lfOu_c38jED"
      },
      "execution_count": null,
      "outputs": []
    },
    {
      "cell_type": "code",
      "source": [],
      "metadata": {
        "id": "XIuqpTTy8jHV"
      },
      "execution_count": null,
      "outputs": []
    },
    {
      "cell_type": "markdown",
      "source": [
        "Es posible sustituir los valores dentro de una llave. Por ejemplo, recibimos la información de que el grupo del estudiante que registramos cambio a `'2G'` y ahora necesitamos cambiar el valor de la llave `'grupo'`."
      ],
      "metadata": {
        "id": "8ex5pt2ykDd2"
      }
    },
    {
      "cell_type": "code",
      "source": [],
      "metadata": {
        "id": "kQGlp36b8fyP"
      },
      "execution_count": null,
      "outputs": []
    },
    {
      "cell_type": "code",
      "source": [],
      "metadata": {
        "id": "DnfH_qHi8f17"
      },
      "execution_count": null,
      "outputs": []
    },
    {
      "cell_type": "markdown",
      "source": [
        "También podemos añadir otros datos al diccionario. Vamos a añadir la información sobre la modalidad de estudio, nuestro estudiante estudiará inicialemente en la modalidad EAD.\n",
        "\n",
        "Definiremos una llave llamada `'modalidad'` con el valor `'EAD'`."
      ],
      "metadata": {
        "id": "wB0qRb56mQvv"
      }
    },
    {
      "cell_type": "code",
      "source": [],
      "metadata": {
        "id": "EeLYdlIm8d8a"
      },
      "execution_count": null,
      "outputs": []
    },
    {
      "cell_type": "code",
      "source": [],
      "metadata": {
        "id": "olDIavsm8d_o"
      },
      "execution_count": null,
      "outputs": []
    },
    {
      "cell_type": "markdown",
      "source": [
        "## Profundizando en diccionarios"
      ],
      "metadata": {
        "id": "LJ3o_inroxg_"
      }
    },
    {
      "cell_type": "markdown",
      "source": [
        "#### [`pop()`](https://python-reference.readthedocs.io/en/latest/docs/dict/pop.html)\n",
        "Remueve un item de un diccionario y lo representa en la salida."
      ],
      "metadata": {
        "id": "2N3GLlkSpBiu"
      }
    },
    {
      "cell_type": "code",
      "source": [],
      "metadata": {
        "id": "ZsSCZx6G8b-T"
      },
      "execution_count": null,
      "outputs": []
    },
    {
      "cell_type": "code",
      "source": [],
      "metadata": {
        "id": "7lQ8_jpi8cBR"
      },
      "execution_count": null,
      "outputs": []
    },
    {
      "cell_type": "markdown",
      "source": [
        "#### [`items()`](https://python-reference.readthedocs.io/en/latest/docs/dict/items.html)\n",
        "Retorna una lista de pares `llave-valor` del diccionario."
      ],
      "metadata": {
        "id": "sYZGvJJYrW_y"
      }
    },
    {
      "cell_type": "code",
      "source": [],
      "metadata": {
        "id": "ncdycLV08an7"
      },
      "execution_count": null,
      "outputs": []
    },
    {
      "cell_type": "markdown",
      "source": [
        "#### [`keys()`](https://python-reference.readthedocs.io/en/latest/docs/dict/keys.html)\n",
        "Retorna una lista de las llaves del diccionario."
      ],
      "metadata": {
        "id": "Lb0utNFGrZBY"
      }
    },
    {
      "cell_type": "code",
      "source": [],
      "metadata": {
        "id": "eZo0biaM8ZVs"
      },
      "execution_count": null,
      "outputs": []
    },
    {
      "cell_type": "markdown",
      "source": [
        "#### [`values()`](https://python-reference.readthedocs.io/en/latest/docs/dict/values.html)\n",
        "Retorna una lista de los valores del diccionario."
      ],
      "metadata": {
        "id": "qKyu3bf9rbtX"
      }
    },
    {
      "cell_type": "code",
      "source": [],
      "metadata": {
        "id": "-NxRT9C18Yvo"
      },
      "execution_count": null,
      "outputs": []
    },
    {
      "cell_type": "markdown",
      "source": [
        "### Lectura de valores con el lazo `for`"
      ],
      "metadata": {
        "id": "e3XVjR8Frp75"
      }
    },
    {
      "cell_type": "code",
      "source": [],
      "metadata": {
        "id": "NYcjU-Ip8Xan"
      },
      "execution_count": null,
      "outputs": []
    },
    {
      "cell_type": "code",
      "source": [],
      "metadata": {
        "id": "aAnpP1Wv8XfJ"
      },
      "execution_count": null,
      "outputs": []
    }
  ]
}