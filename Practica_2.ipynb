{
  "nbformat": 4,
  "nbformat_minor": 0,
  "metadata": {
    "colab": {
      "provenance": [],
      "authorship_tag": "ABX9TyMcVAoRSGaS+3tpmSYGjFkL",
      "include_colab_link": true
    },
    "kernelspec": {
      "name": "python3",
      "display_name": "Python 3"
    },
    "language_info": {
      "name": "python"
    }
  },
  "cells": [
    {
      "cell_type": "markdown",
      "metadata": {
        "id": "view-in-github",
        "colab_type": "text"
      },
      "source": [
        "<a href=\"https://colab.research.google.com/github/karlaferrvalencia/python-primeros-pasos-data-science/blob/main/Practica_2.ipynb\" target=\"_parent\"><img src=\"https://colab.research.google.com/assets/colab-badge.svg\" alt=\"Open In Colab\"/></a>"
      ]
    },
    {
      "cell_type": "markdown",
      "source": [
        "Vamos a practicar el uso de varios tipos de variables y la función input a través de algunas actividades. Resuelve los problemas propuestos en código.\n",
        "\n",
        "##**Recopilación y muestra de datos**\n",
        "\n",
        "1 - Crea un programa que solicite al usuario que escriba su nombre y luego imprima \"Hola, [nombre].\""
      ],
      "metadata": {
        "id": "NhLD8iqtpzX4"
      }
    },
    {
      "cell_type": "code",
      "execution_count": null,
      "metadata": {
        "colab": {
          "base_uri": "https://localhost:8080/"
        },
        "id": "WeP5GY8OpvHJ",
        "outputId": "e32b547d-997c-4066-b4e7-afea027dd6ea"
      },
      "outputs": [
        {
          "output_type": "stream",
          "name": "stdout",
          "text": [
            "Escribe tu nombre: Karla\n",
            "Hola, Karla\n"
          ]
        }
      ],
      "source": [
        "nombre=input(\"Escribe tu nombre: \")\n",
        "print(\"Hola, %s\" % nombre)"
      ]
    },
    {
      "cell_type": "code",
      "execution_count": null,
      "metadata": {
        "colab": {
          "base_uri": "https://localhost:8080/"
        },
        "outputId": "3f9614c1-d0ee-4832-b847-79920cbb5843",
        "id": "B7LhW706r0Bd"
      },
      "outputs": [
        {
          "output_type": "stream",
          "name": "stdout",
          "text": [
            "Escribe tu nombre: Fernanda\n",
            "Hola, Fernanda\n"
          ]
        }
      ],
      "source": [
        "nombre=input(\"Escribe tu nombre: \")\n",
        "print(f\"Hola, {nombre}\")"
      ]
    },
    {
      "cell_type": "markdown",
      "source": [
        "2 - Crea un programa que solicite al usuario que escriba su nombre y edad, y luego imprima \"Hola, [nombre], tienes [edad] años.\""
      ],
      "metadata": {
        "id": "RhHDM-QCr7Zd"
      }
    },
    {
      "cell_type": "code",
      "source": [
        "nombre=input(\"Escribe tu nombre: \")\n",
        "edad=input(\"Escribe tu edad:\")\n",
        "print(f\"Hola, {nombre}, tienes {edad} años.\")"
      ],
      "metadata": {
        "colab": {
          "base_uri": "https://localhost:8080/"
        },
        "id": "LWTWfudDsApH",
        "outputId": "b83fad9b-2ef8-48ff-b7de-56ee36df049e"
      },
      "execution_count": null,
      "outputs": [
        {
          "output_type": "stream",
          "name": "stdout",
          "text": [
            "Escribe tu nombre: Karla\n",
            "Escribe tu edad:28\n",
            "Hola, Karla, tienes 28 años.\n"
          ]
        }
      ]
    },
    {
      "cell_type": "markdown",
      "source": [
        "3 - Crea un programa que solicite al usuario que escriba su nombre, edad y altura en metros, y luego imprima \"Hola, [nombre], tienes [edad] años y mides [altura] metros.\""
      ],
      "metadata": {
        "id": "TS1awZBdsODO"
      }
    },
    {
      "cell_type": "code",
      "source": [
        "nombre=input(\"Escribe tu nombre: \")\n",
        "edad=input(\"Escribe tu edad: \")\n",
        "altura_metros=input(\"Escribe tu altura en metros: \")\n",
        "\n",
        "print(f\"Hola, {nombre}. \\nTienes: {edad}, y mides {altura_metros}\")"
      ],
      "metadata": {
        "colab": {
          "base_uri": "https://localhost:8080/"
        },
        "id": "BvPziRnsv6l6",
        "outputId": "06d1a6f1-93c0-4ee2-8bc2-de10ffe19f7a"
      },
      "execution_count": null,
      "outputs": [
        {
          "output_type": "stream",
          "name": "stdout",
          "text": [
            "Escribe tu nombre: Karla\n",
            "Escribe tu edad: 28\n",
            "Escribe tu altura en metros: 1.68\n",
            "Hola, Karla. \n",
            "Tienes: 28, y mides 1.68\n"
          ]
        }
      ]
    },
    {
      "cell_type": "markdown",
      "source": [
        "##Calculadora con operadores\n",
        "\n",
        "4 - Crea un programa que solicite dos valores numéricos al usuario y luego imprima la suma de ambos valores."
      ],
      "metadata": {
        "id": "0OUKpzK0sOyI"
      }
    },
    {
      "cell_type": "code",
      "source": [
        "a=int(input(\"Escribe el primer numero: \"))\n",
        "b=int(input(\"Escribe el segundo numero: \"))\n",
        "\n",
        "print(a + b)"
      ],
      "metadata": {
        "colab": {
          "base_uri": "https://localhost:8080/"
        },
        "id": "_bKEJvoPwnb-",
        "outputId": "2420525f-ce3e-4b82-d848-41822bbe4858"
      },
      "execution_count": null,
      "outputs": [
        {
          "output_type": "stream",
          "name": "stdout",
          "text": [
            "Escribe el primer numero: 3\n",
            "Escribe el segundo numero: 3\n",
            "6\n"
          ]
        }
      ]
    },
    {
      "cell_type": "markdown",
      "source": [
        "5 - Crea un programa que solicite tres valores numéricos al usuario y luego imprima la suma de los tres valores."
      ],
      "metadata": {
        "id": "MyRxWA2XsSxE"
      }
    },
    {
      "cell_type": "code",
      "source": [
        "a=int(input(\"Escribe el primer numero: \"))\n",
        "b=int(input(\"Escribe el segundo numero: \"))\n",
        "c=int(input(\"Escribe el tercer numero: \"))\n",
        "\n",
        "print(a+b+c)"
      ],
      "metadata": {
        "id": "Is6bUZtvxhIW",
        "colab": {
          "base_uri": "https://localhost:8080/"
        },
        "outputId": "b58f3b5a-420e-483f-fd0a-eacd13fe99de"
      },
      "execution_count": null,
      "outputs": [
        {
          "output_type": "stream",
          "name": "stdout",
          "text": [
            "Escribe el primer numero: 1\n",
            "Escribe el segundo numero: 2\n",
            "Escribe el tercer numero: 3\n",
            "6\n"
          ]
        }
      ]
    },
    {
      "cell_type": "markdown",
      "source": [
        "6 - Crea un programa que solicite dos valores numéricos al usuario y luego imprima la resta del primero menos el segundo valor."
      ],
      "metadata": {
        "id": "-bz5t17EsTW_"
      }
    },
    {
      "cell_type": "code",
      "source": [
        "a=int(input(\"Escribe el primer numero: \"))\n",
        "b=int(input(\"Escribe el segundo numero: \"))\n",
        "\n",
        "print(a-b)\n"
      ],
      "metadata": {
        "id": "RH2KWLqKxhsv",
        "colab": {
          "base_uri": "https://localhost:8080/"
        },
        "outputId": "122816d3-cadf-4cb5-aada-3cc9fe741548"
      },
      "execution_count": null,
      "outputs": [
        {
          "output_type": "stream",
          "name": "stdout",
          "text": [
            "Escribe el primer numero: 4\n",
            "Escribe el segundo numero: 1\n",
            "3\n"
          ]
        }
      ]
    },
    {
      "cell_type": "markdown",
      "source": [
        "7 - Crea un programa que solicite dos valores numéricos al usuario y luego imprima la multiplicación de los dos valores."
      ],
      "metadata": {
        "id": "31z3Z-gnsUv_"
      }
    },
    {
      "cell_type": "code",
      "source": [
        "a=int(input(\"Escribe el primer numero: \"))\n",
        "b=int(input(\"Escribe el segundo numero: \"))\n",
        "\n",
        "print (a*b)"
      ],
      "metadata": {
        "id": "AX4Gl4aJxiKp",
        "colab": {
          "base_uri": "https://localhost:8080/"
        },
        "outputId": "dbffd92c-c3c0-4111-adce-c7c71cb08ad1"
      },
      "execution_count": null,
      "outputs": [
        {
          "output_type": "stream",
          "name": "stdout",
          "text": [
            "Escribe el primer numero: 5\n",
            "Escribe el segundo numero: 3\n",
            "15\n"
          ]
        }
      ]
    },
    {
      "cell_type": "markdown",
      "source": [
        "8 - Crea un programa que solicite dos valores numéricos, un numerador y un denominador, y realice la división entre los dos valores. Asegúrate de que el valor del denominador no sea igual a 0."
      ],
      "metadata": {
        "id": "6EnXHWEdsV1J"
      }
    },
    {
      "cell_type": "code",
      "source": [
        "a=int(input(\"Escribe el numerador: \"))\n",
        "b=int(input(\"Escribe el denominador (diferente a cero): \"))\n",
        "\n",
        "if b==0:\n",
        "  print(\"El denominador no puede ser cero\")\n",
        "else:\n",
        "  print(a/b)"
      ],
      "metadata": {
        "id": "XOxVpBrtxiqZ",
        "colab": {
          "base_uri": "https://localhost:8080/"
        },
        "outputId": "8aa11a79-0cc1-4d8f-e18d-7983d86a2bf9"
      },
      "execution_count": null,
      "outputs": [
        {
          "output_type": "stream",
          "name": "stdout",
          "text": [
            "Escribe el numerador: 2\n",
            "Escribe el denominador (diferente a cero): 3\n",
            "0.6666666666666666\n"
          ]
        }
      ]
    },
    {
      "cell_type": "markdown",
      "source": [
        "9 - Crea un programa que solicite dos valores numéricos, un operador y una potencia, y realice la exponenciación entre estos dos valores."
      ],
      "metadata": {
        "id": "mVTVQmYFsXNl"
      }
    },
    {
      "cell_type": "code",
      "source": [
        "a=int(input(\"Escribe el operador: \"))\n",
        "b=int(input(\"Escribe la potencia: \"))\n",
        "\n",
        "print(a**b)"
      ],
      "metadata": {
        "id": "fESGEBKuxjCj",
        "colab": {
          "base_uri": "https://localhost:8080/"
        },
        "outputId": "6c8714c1-2026-4de7-fafe-21dfc459f354"
      },
      "execution_count": null,
      "outputs": [
        {
          "output_type": "stream",
          "name": "stdout",
          "text": [
            "Escribe el operador: 4\n",
            "Escribe la potencia: 3\n",
            "64\n"
          ]
        }
      ]
    },
    {
      "cell_type": "markdown",
      "source": [
        "10 - Crea un programa que solicite dos valores numéricos, un numerador y un denominador, y realice la división entera entre los dos valores. Asegúrate de que el valor del denominador no sea igual a 0."
      ],
      "metadata": {
        "id": "eDI4ctg9sYnx"
      }
    },
    {
      "cell_type": "code",
      "source": [
        "a=int(input(\"Escribe el numerador: \"))\n",
        "b=int(input(\"Escribe el denominador diferente a cero: \"))\n",
        "\n",
        "if b==0:\n",
        "  print(\"El denominador no puede ser cero\")\n",
        "else:\n",
        "  print(round(a/b))"
      ],
      "metadata": {
        "id": "o2RfrsRVxj6r",
        "outputId": "99c32c33-4dc5-49b5-8fd7-670a5a6099a7",
        "colab": {
          "base_uri": "https://localhost:8080/"
        }
      },
      "execution_count": null,
      "outputs": [
        {
          "output_type": "stream",
          "name": "stdout",
          "text": [
            "Escribe el numerador: 2\n",
            "Escribe el denominador diferente a cero: 3\n",
            "1\n"
          ]
        }
      ]
    },
    {
      "cell_type": "markdown",
      "source": [
        "11 - Crea un programa que solicite dos valores numéricos, un numerador y un denominador, y devuelva el resto de la división entre los dos valores. Asegúrate de que el valor del denominador no sea igual a 0."
      ],
      "metadata": {
        "id": "4dMdssmrsaE8"
      }
    },
    {
      "cell_type": "code",
      "source": [
        "a=int(input(\"Escribe el numerador: \"))\n",
        "b=int(input(\"Escribe el denominador diferente a cero: \"))\n",
        "\n",
        "if b==0:\n",
        "  print(\"El denominador no puede ser cero\")\n",
        "else:\n",
        "  print(a%b)\n",
        "\n",
        "'''\n",
        "El simbolo % devuelve el residuo de la division\n",
        "'''"
      ],
      "metadata": {
        "id": "vV-9e4TqxkcK",
        "colab": {
          "base_uri": "https://localhost:8080/"
        },
        "outputId": "388c3f51-495f-43a4-a921-b99c84eb40a5"
      },
      "execution_count": null,
      "outputs": [
        {
          "output_type": "stream",
          "name": "stdout",
          "text": [
            "Escribe el numerador: 2\n",
            "Escribe el denominador diferente a cero: 3\n",
            "2\n"
          ]
        }
      ]
    },
    {
      "cell_type": "markdown",
      "source": [
        "12 - Crea un código que solicite las 3 notas de un estudiante e imprima el promedio de las notas."
      ],
      "metadata": {
        "id": "D4XQlyYKseT8"
      }
    },
    {
      "cell_type": "code",
      "source": [
        "a=input(\"Escribe la primer nota: \")\n",
        "b=input(\"Escribe la segunda nota: \")\n",
        "c=input(\"Escribe la tercer nota: \")\n",
        "\n",
        "print((float(a)+float(b)+float(c))/3)"
      ],
      "metadata": {
        "id": "ylorPHWjxlBN",
        "collapsed": true,
        "outputId": "10e270cb-ec3f-4fac-b840-275b72083da6",
        "colab": {
          "base_uri": "https://localhost:8080/"
        }
      },
      "execution_count": null,
      "outputs": [
        {
          "output_type": "stream",
          "name": "stdout",
          "text": [
            "Escribe la primer nota: 6\n",
            "Escribe la segunda nota: 7\n",
            "Escribe la tercer nota: 9.5\n",
            "7.5\n"
          ]
        }
      ]
    },
    {
      "cell_type": "markdown",
      "source": [
        "13 - Crea un código que calcule e imprima el promedio ponderado de los números 5, 12, 20 y 15 con pesos respectivamente iguales a 1, 2, 3 y 4."
      ],
      "metadata": {
        "id": "k2SjyKtvsfwL"
      }
    },
    {
      "cell_type": "code",
      "source": [
        "# Números y sus pesos\n",
        "numeros = [5, 12, 20, 15]\n",
        "pesos = [1, 2, 3, 4]\n",
        "\n",
        "# Calcula la suma de los productos de número por peso\n",
        "suma_productos = sum(numero * peso for numero, peso in zip(numeros, pesos))\n",
        "\n",
        "# Calcula la suma de los pesos\n",
        "suma_pesos = sum(pesos)\n",
        "\n",
        "# Calcula el promedio ponderado\n",
        "promedio_ponderado = suma_productos / suma_pesos\n",
        "\n",
        "# Imprime el resultado\n",
        "print(f\"El promedio ponderado es: {promedio_ponderado}\")"
      ],
      "metadata": {
        "id": "8kHFhTSHxlet"
      },
      "execution_count": null,
      "outputs": []
    },
    {
      "cell_type": "markdown",
      "source": [
        "##Editando textos\n",
        "\n",
        "14 - Crea una variable llamada \"frase\" y asígnale una cadena de texto de tu elección. Luego, imprime la frase en pantalla."
      ],
      "metadata": {
        "id": "9gk6jkWTshFy"
      }
    },
    {
      "cell_type": "code",
      "source": [
        "frase = 'I aspire to inspure before I expire.'\n",
        "print(\"Today's motivational phrase is: %s\" % frase)"
      ],
      "metadata": {
        "colab": {
          "base_uri": "https://localhost:8080/"
        },
        "id": "TguxbUR0yDfS",
        "outputId": "11a60856-f727-4315-e1cd-b38685eee0be"
      },
      "execution_count": null,
      "outputs": [
        {
          "output_type": "stream",
          "name": "stdout",
          "text": [
            "Today's motivational phrase is: I aspire to inspure before I expire.\n"
          ]
        }
      ]
    },
    {
      "cell_type": "markdown",
      "source": [
        "15 - Crea un código que solicite una frase y luego imprima la frase en pantalla."
      ],
      "metadata": {
        "id": "5M-FXZpCsimR"
      }
    },
    {
      "cell_type": "code",
      "source": [
        "texto=input(\"Escribe una frase:\")\n",
        "print(texto)"
      ],
      "metadata": {
        "colab": {
          "base_uri": "https://localhost:8080/"
        },
        "id": "7Na7pmVPzKxx",
        "outputId": "73427de8-3933-4765-9f83-1b6a2077db6d"
      },
      "execution_count": null,
      "outputs": [
        {
          "output_type": "stream",
          "name": "stdout",
          "text": [
            "Escribe una frase:Te quiero\n",
            "Te quiero\n"
          ]
        }
      ]
    },
    {
      "cell_type": "markdown",
      "source": [
        "16 - Crea un código que solicite una frase al usuario y luego imprima la misma frase ingresada pero en mayúsculas."
      ],
      "metadata": {
        "id": "zGUwHGejsmin"
      }
    },
    {
      "cell_type": "code",
      "source": [
        "texto=input(\"Escribe una frase: \")\n",
        "print(texto.upper())"
      ],
      "metadata": {
        "colab": {
          "base_uri": "https://localhost:8080/"
        },
        "id": "L99BXblgzT48",
        "outputId": "faad5b9f-de7e-462a-8c63-805fd473da5a"
      },
      "execution_count": null,
      "outputs": [
        {
          "output_type": "stream",
          "name": "stdout",
          "text": [
            "Escribe una frase: Te quiero\n",
            "TE QUIERO\n"
          ]
        }
      ]
    },
    {
      "cell_type": "markdown",
      "source": [
        "17 - Crea un código que solicite una frase al usuario y luego imprima la misma frase ingresada pero en minúsculas."
      ],
      "metadata": {
        "id": "91DhQS2qso8G"
      }
    },
    {
      "cell_type": "code",
      "source": [
        "texto=input(\"Excribe una frase: \")\n",
        "print(texto.lower())"
      ],
      "metadata": {
        "colab": {
          "base_uri": "https://localhost:8080/"
        },
        "id": "u_Qymlpz0OOz",
        "outputId": "ce8f6731-6528-4c79-fcd1-57083cb29b82"
      },
      "execution_count": null,
      "outputs": [
        {
          "output_type": "stream",
          "name": "stdout",
          "text": [
            "Excribe una frase: Te quiero\n",
            "te quiero\n"
          ]
        }
      ]
    },
    {
      "cell_type": "markdown",
      "source": [
        "18 - Crea una variable llamada \"frase\" y asígnale una cadena de texto de tu elección. Luego, imprime la frase sin espacios en blanco al principio y al final."
      ],
      "metadata": {
        "id": "ReyD1FpCspYf"
      }
    },
    {
      "cell_type": "code",
      "source": [
        "frase=\" Espacios Blancos \"\n",
        "print(frase.strip())"
      ],
      "metadata": {
        "colab": {
          "base_uri": "https://localhost:8080/"
        },
        "id": "o2jRgxLm0qdN",
        "outputId": "bee2e93f-2cd7-4e33-aa21-0fd9025d1a25"
      },
      "execution_count": null,
      "outputs": [
        {
          "output_type": "stream",
          "name": "stdout",
          "text": [
            "Espacios Blancos\n"
          ]
        }
      ]
    },
    {
      "cell_type": "markdown",
      "source": [
        "19 - Crea un código que solicite una frase al usuario y luego imprima la misma frase sin espacios en blanco al principio y al final."
      ],
      "metadata": {
        "id": "_E9X0D2GsqaZ"
      }
    },
    {
      "cell_type": "code",
      "source": [
        "frase=input(\"Escriba una frase con espacio en blanco al inicio y al final: \")\n",
        "print(frase.strip())"
      ],
      "metadata": {
        "id": "m0p0CjCN15Hw",
        "outputId": "af6cb3da-12d3-4e40-ad95-20ca4820f562",
        "colab": {
          "base_uri": "https://localhost:8080/"
        }
      },
      "execution_count": null,
      "outputs": [
        {
          "output_type": "stream",
          "name": "stdout",
          "text": [
            "Escriba una frase con espacio en blanco al inicio y al final:  Te quiero \n",
            "Te quiero\n"
          ]
        }
      ]
    },
    {
      "cell_type": "markdown",
      "source": [
        "20 - Crea un código que solicite una frase al usuario y luego imprima la misma frase sin espacios en blanco al principio y al final, además de convertirla a minúsculas."
      ],
      "metadata": {
        "id": "HyNqFqdxsr7T"
      }
    },
    {
      "cell_type": "code",
      "source": [
        "frase=input(\"Escriba una frase con espacio en blanco al inicio y al final: \")\n",
        "print(frase.strip().lower())"
      ],
      "metadata": {
        "id": "Yi4Njtr83OS7",
        "outputId": "ebcddbba-99ad-4dff-88bc-9c3c4eac506b",
        "colab": {
          "base_uri": "https://localhost:8080/"
        }
      },
      "execution_count": 1,
      "outputs": [
        {
          "output_type": "stream",
          "name": "stdout",
          "text": [
            "Escriba una frase con espacio en blanco al inicio y al final: Te quiero\n",
            "te quiero\n"
          ]
        }
      ]
    },
    {
      "cell_type": "markdown",
      "source": [
        "21 - Crea un código que solicite una frase al usuario y luego imprima la misma frase con todas las vocales \"e\" reemplazadas por la letra \"f\"."
      ],
      "metadata": {
        "id": "yevyxj-tstE3"
      }
    },
    {
      "cell_type": "code",
      "source": [
        "frase=input(\"Escriba una frase con espacio en blanco al inicio y al final: \")\n",
        "print(frase.replace(\"e\",\"f\"))"
      ],
      "metadata": {
        "id": "jhP5Hux61uNj",
        "outputId": "900e3324-febd-45eb-d4e6-61975d019bdc",
        "colab": {
          "base_uri": "https://localhost:8080/"
        }
      },
      "execution_count": 10,
      "outputs": [
        {
          "output_type": "stream",
          "name": "stdout",
          "text": [
            "Escriba una frase con espacio en blanco al inicio y al final: Te estranio\n",
            "Tf fstranio\n"
          ]
        }
      ]
    },
    {
      "cell_type": "markdown",
      "source": [
        "22 - Crea un código que solicite una frase al usuario y luego imprima la misma frase con todas las vocales \"a\" reemplazadas por el carácter \"@\"."
      ],
      "metadata": {
        "id": "EF-bJODksuZv"
      }
    },
    {
      "cell_type": "code",
      "source": [
        "frase=input(\"Escriba una frase con espacio en blanco al inicio y al final: \")\n",
        "print(frase.replace(\"a\",\"@\"))"
      ],
      "metadata": {
        "id": "iVWyisV_187T",
        "outputId": "b92fde5b-a86f-4a2d-9f90-ee97dc284dce",
        "colab": {
          "base_uri": "https://localhost:8080/"
        }
      },
      "execution_count": 5,
      "outputs": [
        {
          "output_type": "stream",
          "name": "stdout",
          "text": [
            "Escriba una frase con espacio en blanco al inicio y al final: Alana Lava la Garra\n",
            "Al@n@ L@v@ l@ G@rr@\n"
          ]
        }
      ]
    },
    {
      "cell_type": "markdown",
      "source": [
        "23 - Crea un código que solicite una frase al usuario y luego imprima la misma frase con todas las consonantes \"s\" reemplazadas por el carácter \"$\"."
      ],
      "metadata": {
        "id": "4wY1Wg3YswCO"
      }
    },
    {
      "cell_type": "code",
      "source": [
        "frase=input(\"Escriba una frase con espacio en blanco al inicio y al final: \")\n",
        "print(frase.replace(\"s\",\"$\"))"
      ],
      "metadata": {
        "id": "3LWppFvisZJC",
        "outputId": "7f2909c3-0b8c-47f3-d7fe-cabd176de81c",
        "colab": {
          "base_uri": "https://localhost:8080/"
        }
      },
      "execution_count": 8,
      "outputs": [
        {
          "output_type": "stream",
          "name": "stdout",
          "text": [
            "Escriba una frase con espacio en blanco al inicio y al final: Sarasota\n",
            "Sara$ota\n"
          ]
        }
      ]
    }
  ]
}