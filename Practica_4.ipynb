{
  "nbformat": 4,
  "nbformat_minor": 0,
  "metadata": {
    "colab": {
      "provenance": [],
      "authorship_tag": "ABX9TyP++0TN5mYW/jmWXxwm7xOe",
      "include_colab_link": true
    },
    "kernelspec": {
      "name": "python3",
      "display_name": "Python 3"
    },
    "language_info": {
      "name": "python"
    }
  },
  "cells": [
    {
      "cell_type": "markdown",
      "metadata": {
        "id": "view-in-github",
        "colab_type": "text"
      },
      "source": [
        "<a href=\"https://colab.research.google.com/github/karlaferrvalencia/python-primeros-pasos-data-science/blob/main/Practica_4.ipynb\" target=\"_parent\"><img src=\"https://colab.research.google.com/assets/colab-badge.svg\" alt=\"Open In Colab\"/></a>"
      ]
    },
    {
      "cell_type": "markdown",
      "source": [
        "1 - Escribe un programa que solicite dos números enteros e imprima todos los números enteros entre ellos."
      ],
      "metadata": {
        "id": "dxcRqehpVsc9"
      }
    },
    {
      "cell_type": "code",
      "execution_count": null,
      "metadata": {
        "id": "q82Bd0M6VX1x",
        "colab": {
          "base_uri": "https://localhost:8080/"
        },
        "outputId": "813b9cc4-6196-4d6e-9015-79af048f5803"
      },
      "outputs": [
        {
          "output_type": "stream",
          "name": "stdout",
          "text": [
            "Ingresa el primer número entero: 16\n",
            "Ingresa el segundo número entero: 1\n",
            "2\n",
            "3\n",
            "4\n",
            "5\n",
            "6\n",
            "7\n",
            "8\n",
            "9\n",
            "10\n",
            "11\n",
            "12\n",
            "13\n",
            "14\n",
            "15\n"
          ]
        }
      ],
      "source": [
        "a = int(input('Ingresa el primer número entero: '))\n",
        "b = int(input('Ingresa el segundo número entero: '))\n",
        "\n",
        "if a < b:\n",
        "  for i in range(a + 1, b):\n",
        "    print(i)\n",
        "elif a > b:\n",
        "  for i in range(b + 1, a):\n",
        "    print(i)\n",
        "else:\n",
        "  print('Los números son iguales.')"
      ]
    },
    {
      "cell_type": "markdown",
      "source": [
        "2 - Escribe un programa para calcular cuántos días tomará que la colonia de una bacteria A supere o iguale a la colonia de una bacteria B, basado en tasas de crecimiento del 3% y 1.5%, respectivamente. Supón que la colonia A comienza con 4 elementos y B con 10."
      ],
      "metadata": {
        "id": "2e_OfXwfVvSN"
      }
    },
    {
      "cell_type": "code",
      "source": [
        "a=4\n",
        "b=10\n",
        "dias=0\n",
        "\n",
        "while a<b:\n",
        "  a=a*1.03\n",
        "  b=b*1.015\n",
        "  dias+=1\n",
        "print(f'Tomará {dias} días para que la colonia A supere a la colonia B.')"
      ],
      "metadata": {
        "id": "drJMvc8IVxDd",
        "colab": {
          "base_uri": "https://localhost:8080/"
        },
        "outputId": "c8453e69-996a-4ecf-c02b-a252f27fd597"
      },
      "execution_count": null,
      "outputs": [
        {
          "output_type": "stream",
          "name": "stdout",
          "text": [
            "Tomará 63 días para que la colonia A supere a la colonia B.\n"
          ]
        }
      ]
    },
    {
      "cell_type": "markdown",
      "source": [
        "3 - Para procesar una cantidad de 15 datos de evaluaciones de usuarios de un servicio de la empresa, necesitamos verificar si las calificaciones son válidas. Por lo tanto, escribe un programa que recibirá calificaciones del 0 al 5 y verificará si son valores válidos. Si se ingresa una calificación superior a 5 o inferior a 0, se repetirá hasta que el usuario ingrese un valor válido."
      ],
      "metadata": {
        "id": "2JMEyLKxVxaK"
      }
    },
    {
      "cell_type": "code",
      "source": [
        "for i in range(1,15):\n",
        "  nota = float(input(f'Ingresa la nota del usuario {i}: '))\n",
        "  while (nota < 0) or (nota > 5):\n",
        "    nota = float(input(f'Nota no válida, ingresa nuevamente la nota del usuario {i}: '))\n",
        "\n",
        "print('Verificación completa. Todas las notas son válidas.')"
      ],
      "metadata": {
        "id": "jXXtkr9ZVzGJ",
        "collapsed": true
      },
      "execution_count": null,
      "outputs": []
    },
    {
      "cell_type": "markdown",
      "source": [
        "4 - Desarrolla un programa que lea un conjunto indefinido de temperaturas en grados Celsius y calcule su promedio. La lectura debe detenerse al ingresar el valor -273°C."
      ],
      "metadata": {
        "id": "_9OXpACcVzYo"
      }
    },
    {
      "cell_type": "code",
      "source": [
        "suma=0\n",
        "contador=0\n",
        "\n",
        "temp=float(input('Ingresa la temperatura en grados Celsius: '))\n",
        "while temp!=-273:\n",
        "  suma+=temp\n",
        "  contador+=1\n",
        "  temp=float(input('Ingresa la temperatura en grados Celsius: '))\n",
        "promedio=suma/contador\n",
        "print(f'El promedio de las temperaturas ingresadas es: {promedio}')\n"
      ],
      "metadata": {
        "id": "ai-1FWIkV07v",
        "colab": {
          "base_uri": "https://localhost:8080/"
        },
        "outputId": "5ee8304f-913c-4141-ae6d-74ba34e9d3a5"
      },
      "execution_count": null,
      "outputs": [
        {
          "output_type": "stream",
          "name": "stdout",
          "text": [
            "Ingresa la temperatura en grados Celsius: 1\n",
            "Ingresa la temperatura en grados Celsius: 2\n",
            "Ingresa la temperatura en grados Celsius: 3\n",
            "Ingresa la temperatura en grados Celsius: -273\n",
            "El promedio de las temperaturas ingresadas es: 2.0\n"
          ]
        }
      ]
    },
    {
      "cell_type": "markdown",
      "source": [
        "5 - Escribe un programa que calcule el factorial de un número entero proporcionado por el usuario. Recuerda que el factorial de un número entero es el producto de ese número por todos sus antecesores hasta llegar al número 1. Por ejemplo, el factorial de 5 es 5 x 4 x 3 x 2 x 1 = 120."
      ],
      "metadata": {
        "id": "JloB9cAJV1bI"
      }
    },
    {
      "cell_type": "code",
      "source": [
        "##Pending review of logical sequence."
      ],
      "metadata": {
        "id": "hY3gR4gsV2mM"
      },
      "execution_count": null,
      "outputs": []
    },
    {
      "cell_type": "markdown",
      "source": [
        "###Momento de los proyectos\n",
        "\n",
        "6 - Escribe un programa que genere la tabla de multiplicar de un número entero del 1 al 10, según la elección del usuario. Como ejemplo, para el número 2, la tabla de multiplicar debe mostrarse en el siguiente formato:\n",
        "\n",
        "\n",
        "```\n",
        "Tabla de multiplicar del 2:\n",
        "2 x 1 = 2\n",
        "2 x 2 = 4\n",
        "[...]\n",
        "2 x 10 = 20\n",
        "```"
      ],
      "metadata": {
        "id": "h0kO8l8mV218"
      }
    },
    {
      "cell_type": "code",
      "source": [
        "t=int(input('Ingresa el número entero de la tabla de multiplicar que deseas ver: '))\n",
        "for i in range(1,11):\n",
        "  print(f'{t} x {i} = {t*i}')"
      ],
      "metadata": {
        "id": "We1Q4wa8WJff",
        "outputId": "fa2aa083-1d1a-4293-c97d-3daf0f84a564",
        "colab": {
          "base_uri": "https://localhost:8080/"
        }
      },
      "execution_count": 2,
      "outputs": [
        {
          "output_type": "stream",
          "name": "stdout",
          "text": [
            "Ingresa el número de la tabla de multiplicar que deseas ver: 5\n",
            "5 x 1 = 5\n",
            "5 x 2 = 10\n",
            "5 x 3 = 15\n",
            "5 x 4 = 20\n",
            "5 x 5 = 25\n",
            "5 x 6 = 30\n",
            "5 x 7 = 35\n",
            "5 x 8 = 40\n",
            "5 x 9 = 45\n",
            "5 x 10 = 50\n"
          ]
        }
      ]
    },
    {
      "cell_type": "markdown",
      "source": [
        "  7 - Los números primos tienen diversas aplicaciones en Ciencia de Datos, como en criptografía y seguridad. Un número primo es aquel que es divisible solo por sí mismo y por 1. Por lo tanto, crea un programa que solicite un número entero y determine si es un número primo o no."
      ],
      "metadata": {
        "id": "wvBfaaunWJw2"
      }
    },
    {
      "cell_type": "code",
      "source": [
        "t=int(input(\"Ingresa un número entero: \"))\n",
        "\n",
        "for i in range(2,t):\n",
        "  if t%i==0:\n",
        "    print(f'{t} no es un número primo.')\n",
        "    break\n",
        "else:\n",
        "  print(f'{t} es un número primo.')\n"
      ],
      "metadata": {
        "id": "cCzj3sy7WTL7",
        "outputId": "32f11be9-d55b-4570-fdc5-3f4381102e17",
        "colab": {
          "base_uri": "https://localhost:8080/"
        }
      },
      "execution_count": 13,
      "outputs": [
        {
          "output_type": "stream",
          "name": "stdout",
          "text": [
            "Ingresa un número entero: 4\n",
            "4 no es un número primo.\n"
          ]
        }
      ]
    },
    {
      "cell_type": "markdown",
      "source": [
        "8 - Vamos a comprender la distribución de edades de los pensionistas de una empresa de seguros. Escribe un programa que lea las edades de una cantidad no informada de clientes y muestre la distribución en los intervalos [0-25], [26-50], [51-75] y [76-100]. La entrada de datos se detendrá al ingresar un número negativo."
      ],
      "metadata": {
        "id": "lDAqfph9WTjM"
      }
    },
    {
      "cell_type": "code",
      "source": [],
      "metadata": {
        "id": "mRoxezlBWVCB"
      },
      "execution_count": null,
      "outputs": []
    },
    {
      "cell_type": "markdown",
      "source": [
        "9 - En una elección para la gerencia de una empresa con 20 empleados, hay cuatro candidatos. Escribe un programa que calcule al ganador de la elección. La votación se realizó de la siguiente manera:\n",
        "\n",
        "Cada empleado votó por uno de los cuatro candidatos (representados por los números 1, 2, 3 y 4).\n",
        "\n",
        "También se contaron los votos nulos (representados por el número 5) y los votos en blanco (representados por el número 6).\n",
        "\n",
        "Al final de la votación, el programa debe mostrar el número total de votos para cada candidato, los votos nulos y los votos en blanco. Además, debe calcular y mostrar el porcentaje de votos nulos con respecto al total de votos y el porcentaje de votos en blanco con respecto al total de votos."
      ],
      "metadata": {
        "id": "OXXjsR7gWVuX"
      }
    },
    {
      "cell_type": "code",
      "source": [],
      "metadata": {
        "id": "4Z83_HBoWZN0"
      },
      "execution_count": null,
      "outputs": []
    }
  ]
}