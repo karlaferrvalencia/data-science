{
  "nbformat": 4,
  "nbformat_minor": 0,
  "metadata": {
    "colab": {
      "provenance": [],
      "authorship_tag": "ABX9TyMgcsvhQq1R9+PaYVNWIUhE",
      "include_colab_link": true
    },
    "kernelspec": {
      "name": "python3",
      "display_name": "Python 3"
    },
    "language_info": {
      "name": "python"
    }
  },
  "cells": [
    {
      "cell_type": "markdown",
      "metadata": {
        "id": "view-in-github",
        "colab_type": "text"
      },
      "source": [
        "<a href=\"https://colab.research.google.com/github/karlaferrvalencia/python-primeros-pasos-data-science/blob/main/Practica_3.ipynb\" target=\"_parent\"><img src=\"https://colab.research.google.com/assets/colab-badge.svg\" alt=\"Open In Colab\"/></a>"
      ]
    },
    {
      "cell_type": "markdown",
      "source": [
        "##Entrenando la programación\n",
        "\n",
        "1 - Escribe un programa que pida a la persona usuaria que proporcione dos números y muestre el número más grande."
      ],
      "metadata": {
        "id": "bHfnyUgYSy0f"
      }
    },
    {
      "cell_type": "code",
      "execution_count": null,
      "metadata": {
        "colab": {
          "base_uri": "https://localhost:8080/"
        },
        "id": "wJuqFGpDSvBP",
        "outputId": "61afd061-cad1-4863-bed3-4005ce907027"
      },
      "outputs": [
        {
          "output_type": "stream",
          "name": "stdout",
          "text": [
            "Escribe el primer número6.7\n",
            "Escribe el segundo número8\n",
            "8.0\n"
          ]
        }
      ],
      "source": [
        "a= float(input(\"Escribe el primer número\"))\n",
        "b= float(input(\"Escribe el segundo número\"))\n",
        "\n",
        "if a>b:\n",
        "  print(a)\n",
        "else:\n",
        "  print(b)"
      ]
    },
    {
      "cell_type": "markdown",
      "source": [
        "2 - Escribe un programa que solicite el porcentaje de crecimiento de producción de una empresa e informe si hubo un crecimiento (porcentaje positivo) o una disminución (porcentaje negativo)."
      ],
      "metadata": {
        "id": "-nG2sOnXS28M"
      }
    },
    {
      "cell_type": "code",
      "source": [
        "pc= float(input(\"Escribe el porcentaje de crecimiento de producción de la empresa\"))\n",
        "\n",
        "if pc>0:\n",
        "  print(\"Hubo un crecimiento\")\n",
        "else:\n",
        "  print(\"Hubo una disminución\")"
      ],
      "metadata": {
        "id": "_GQInDaYTSd6"
      },
      "execution_count": null,
      "outputs": []
    },
    {
      "cell_type": "markdown",
      "source": [
        "3 - Escribe un programa que determine si una letra proporcionada por la persona usuaria es una vocal o una consonante."
      ],
      "metadata": {
        "id": "2YA-hoklS45K"
      }
    },
    {
      "cell_type": "code",
      "source": [
        "lista = 'a,e,i,o,u'\n",
        "\n",
        "letra=input(\"Escribe una letra: \")\n",
        "\n",
        "if letra in lista:\n",
        "  print(\"Es una vocal.\")\n",
        "else:\n",
        "  print(\"Es una consonante.\")\n"
      ],
      "metadata": {
        "id": "xqYW0OQjTS28",
        "outputId": "26b82660-ce02-4ba6-ae39-9d408ac8f5fb",
        "colab": {
          "base_uri": "https://localhost:8080/"
        }
      },
      "execution_count": 4,
      "outputs": [
        {
          "output_type": "stream",
          "name": "stdout",
          "text": [
            "Escribe una letraa\n",
            "Es una vocal\n"
          ]
        }
      ]
    },
    {
      "cell_type": "markdown",
      "source": [
        "4 - Escribe un programa que lea valores promedio de precios de un modelo de automóvil durante 3 años consecutivos y muestre el valor más alto y más bajo entre esos tres años."
      ],
      "metadata": {
        "id": "XG9OsSl4S6K2"
      }
    },
    {
      "cell_type": "code",
      "source": [
        "precio1 = float(input(\"Introduce el precio promedio del año 1: \"))\n",
        "precio2 = float(input(\"Introduce el precio promedio del año 2: \"))\n",
        "precio3 = float(input(\"Introduce el precio promedio del año 3: \"))\n",
        "\n",
        "precios = [precio1, precio2, precio3]\n",
        "\n",
        "precioalto = max(precios)\n",
        "preciobajo = min(precios)\n",
        "\n",
        "print(\"El valor más alto es:\", precioalto)\n",
        "print(\"El valor más bajo es:\", preciobajo)"
      ],
      "metadata": {
        "id": "x_n9xx6pTTME",
        "outputId": "68d288f8-f56e-4a6f-b0df-9652af896a64",
        "colab": {
          "base_uri": "https://localhost:8080/"
        }
      },
      "execution_count": 5,
      "outputs": [
        {
          "output_type": "stream",
          "name": "stdout",
          "text": [
            "Introduce el precio promedio del año 1: 4\n",
            "Introduce el precio promedio del año 2: 5\n",
            "Introduce el precio promedio del año 3: 7\n",
            "El valor más alto es: 7.0\n",
            "El valor más bajo es: 4.0\n"
          ]
        }
      ]
    },
    {
      "cell_type": "markdown",
      "source": [
        "5 - Escribe un programa que pregunte sobre el precio de tres productos e indique cuál es el producto más barato para comprar."
      ],
      "metadata": {
        "id": "ygphOn9TS71k"
      }
    },
    {
      "cell_type": "code",
      "source": [],
      "metadata": {
        "id": "C3qFzXfaS8w2"
      },
      "execution_count": null,
      "outputs": []
    },
    {
      "cell_type": "markdown",
      "source": [
        "6 - Escribe un programa que lea tres números y los muestre en orden descendente."
      ],
      "metadata": {
        "id": "IM0mDPlIS9Iq"
      }
    },
    {
      "cell_type": "code",
      "source": [],
      "metadata": {
        "id": "f5wg5m-yTTsQ"
      },
      "execution_count": null,
      "outputs": []
    },
    {
      "cell_type": "markdown",
      "source": [
        "7 -Escribe un programa que pregunte en qué turno estudia la persona usuaria (\"mañana\", \"tarde\" o \"noche\") y muestre el mensaje \"¡Buenos Días!\", \"¡Buenas Tardes!\", \"¡Buenas Noches!\" o \"Valor Inválido!\", según el caso."
      ],
      "metadata": {
        "id": "lrKJX1MtS-U-"
      }
    },
    {
      "cell_type": "code",
      "source": [],
      "metadata": {
        "id": "9wy7W7OdTUCr"
      },
      "execution_count": null,
      "outputs": []
    },
    {
      "cell_type": "markdown",
      "source": [
        "8 - Escribe un programa que solicite un número entero a la persona usuaria y determine si es par o impar. Pista: Puedes usar el operador módulo (%)."
      ],
      "metadata": {
        "id": "8pUr_04gTAHS"
      }
    },
    {
      "cell_type": "code",
      "source": [],
      "metadata": {
        "id": "amEiugCeTUZO"
      },
      "execution_count": null,
      "outputs": []
    },
    {
      "cell_type": "markdown",
      "source": [
        "9 - Escribe un programa que pida un número a la persona usuaria y le informe si es entero o decimal."
      ],
      "metadata": {
        "id": "QRK-_CoYTBlG"
      }
    },
    {
      "cell_type": "code",
      "source": [],
      "metadata": {
        "id": "6TWRF78XTDz3"
      },
      "execution_count": null,
      "outputs": []
    },
    {
      "cell_type": "markdown",
      "source": [
        "##Momento de los proyectos\n",
        "\n",
        "10 - Un programa debe ser escrito para leer dos números y luego preguntar a la persona usuaria qué operación desea realizar. El resultado de la operación debe incluir información sobre el número, si es par o impar, positivo o negativo, e entero o decimal."
      ],
      "metadata": {
        "id": "0Ce0RnPPTEHE"
      }
    },
    {
      "cell_type": "code",
      "source": [],
      "metadata": {
        "id": "27dqajtrTU8V"
      },
      "execution_count": null,
      "outputs": []
    },
    {
      "cell_type": "markdown",
      "source": [
        "11 - Escribe un programa que pida a la persona usuaria tres números que representan los lados de un triángulo. El programa debe informar si los valores pueden utilizarse para formar un triángulo y, en caso afirmativo, si es equilátero, isósceles o escaleno. Ten en cuenta algunas sugerencias:\n",
        "\n",
        "Tres lados forman un triángulo cuando la suma de cualesquiera dos lados es mayor que el tercero;\n",
        "Triángulo Equilátero: tres lados iguales;\n",
        "Triángulo Isósceles: dos lados iguales;\n",
        "Triángulo Escaleno: tres lados diferentes."
      ],
      "metadata": {
        "id": "HomE-NUJTG0r"
      }
    },
    {
      "cell_type": "code",
      "source": [],
      "metadata": {
        "id": "CZgEGzpCTJj_"
      },
      "execution_count": null,
      "outputs": []
    },
    {
      "cell_type": "markdown",
      "source": [
        "12 - Un establecimiento está vendiendo combustibles con descuentos variables. Para el etanol, si la cantidad comprada es de hasta 15 litros, el descuento será del 2% por litro. En caso contrario, será del 4% por litro. Para el diésel, si la cantidad comprada es de hasta 15 litros, el descuento será del 3% por litro. En caso contrario, será del 5% por litro. El precio por litro de diésel es de R$ 2,00 y el precio por litro de etanol es de R$ 1,70. Escribe un programa que lea la cantidad de litros vendidos y el tipo de combustible (E para etanol y D para diésel) y calcule el valor a pagar por el cliente. Ten en cuenta algunas sugerencias:\n",
        "\n",
        "El valor del descuento será el producto del precio por litro, la cantidad de litros y el valor del descuento.\n",
        "El valor a pagar por un cliente será el resultado de la multiplicación del precio por litro por la cantidad de litros menos el valor del descuento resultante del cálculo."
      ],
      "metadata": {
        "id": "2rhOK1AdTJ2E"
      }
    },
    {
      "cell_type": "code",
      "source": [],
      "metadata": {
        "id": "IsGiPmFwTQDo"
      },
      "execution_count": null,
      "outputs": []
    },
    {
      "cell_type": "markdown",
      "source": [
        "13 - En una empresa de venta de bienes raíces, debes crear un código que analice los datos de ventas anuales para ayudar a la dirección en la toma de decisiones. El código debe recopilar los datos de cantidad de ventas durante los años 2022 y 2023 y calcular la variación porcentual. A partir del valor de la variación, se deben proporcionar las siguientes sugerencias:\n",
        "\n",
        "Para una variación superior al 20%: bonificación para el equipo de ventas.\n",
        "Para una variación entre el 2% y el 20%: pequeña bonificación para el equipo de ventas.\n",
        "Para una variación entre el 2% y el -10%: planificación de políticas de incentivo a las ventas.\n",
        "Para bonificaciones inferiores al -10%: recorte de gastos."
      ],
      "metadata": {
        "id": "gYehaRJcTQUh"
      }
    },
    {
      "cell_type": "code",
      "source": [],
      "metadata": {
        "id": "YKHyXfhhTRag"
      },
      "execution_count": null,
      "outputs": []
    }
  ]
}