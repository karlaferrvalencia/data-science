{
  "nbformat": 4,
  "nbformat_minor": 0,
  "metadata": {
    "colab": {
      "provenance": [],
      "authorship_tag": "ABX9TyNcAcpHXlAAWpJQGxgbyW9R",
      "include_colab_link": true
    },
    "kernelspec": {
      "name": "python3",
      "display_name": "Python 3"
    },
    "language_info": {
      "name": "python"
    }
  },
  "cells": [
    {
      "cell_type": "markdown",
      "metadata": {
        "id": "view-in-github",
        "colab_type": "text"
      },
      "source": [
        "<a href=\"https://colab.research.google.com/github/karlaferrvalencia/python-primeros-pasos-data-science/blob/main/Practica_3.ipynb\" target=\"_parent\"><img src=\"https://colab.research.google.com/assets/colab-badge.svg\" alt=\"Open In Colab\"/></a>"
      ]
    },
    {
      "cell_type": "markdown",
      "source": [
        "##Entrenando la programación\n",
        "\n",
        "1 - Escribe un programa que pida a la persona usuaria que proporcione dos números y muestre el número más grande."
      ],
      "metadata": {
        "id": "bHfnyUgYSy0f"
      }
    },
    {
      "cell_type": "code",
      "execution_count": 25,
      "metadata": {
        "colab": {
          "base_uri": "https://localhost:8080/"
        },
        "id": "wJuqFGpDSvBP",
        "outputId": "948b2109-1020-48cb-8b21-1331054f10e2"
      },
      "outputs": [
        {
          "output_type": "stream",
          "name": "stdout",
          "text": [
            "Escribe el primer número: 4\n",
            "Escribe el segundo número: 5\n",
            "5.0\n"
          ]
        }
      ],
      "source": [
        "a= float(input(\"Escribe el primer número: \"))\n",
        "b= float(input(\"Escribe el segundo número: \"))\n",
        "\n",
        "if a>b:\n",
        "  print(a)\n",
        "else:\n",
        "  print(b)"
      ]
    },
    {
      "cell_type": "markdown",
      "source": [
        "2 - Escribe un programa que solicite el porcentaje de crecimiento de producción de una empresa e informe si hubo un crecimiento (porcentaje positivo) o una disminución (porcentaje negativo)."
      ],
      "metadata": {
        "id": "-nG2sOnXS28M"
      }
    },
    {
      "cell_type": "code",
      "source": [
        "pc= float(input(\"Escribe el porcentaje de crecimiento de producción de la empresa: \"))\n",
        "\n",
        "if pc>0:\n",
        "  print(f\"Hubo un crecimiento del {pc}%\")\n",
        "else:\n",
        "  print(f\"Hubo una disminución de {pc}%\")"
      ],
      "metadata": {
        "id": "_GQInDaYTSd6",
        "colab": {
          "base_uri": "https://localhost:8080/"
        },
        "outputId": "9b87c9e7-9f5b-4630-876b-d3353a3e7cab"
      },
      "execution_count": 29,
      "outputs": [
        {
          "output_type": "stream",
          "name": "stdout",
          "text": [
            "Escribe el porcentaje de crecimiento de producción de la empresa: 70\n",
            "Hubo un crecimiento del 70.0%\n"
          ]
        }
      ]
    },
    {
      "cell_type": "markdown",
      "source": [
        "3 - Escribe un programa que determine si una letra proporcionada por la persona usuaria es una vocal o una consonante."
      ],
      "metadata": {
        "id": "2YA-hoklS45K"
      }
    },
    {
      "cell_type": "code",
      "source": [
        "lista = 'a,e,i,o,u'\n",
        "\n",
        "letra=input(\"Escribe una letra: \").lower()\n",
        "\n",
        "if letra in lista:\n",
        "  print(\"Es una vocal.\")\n",
        "else:\n",
        "  print(\"Es una consonante.\")\n"
      ],
      "metadata": {
        "id": "xqYW0OQjTS28",
        "colab": {
          "base_uri": "https://localhost:8080/"
        },
        "outputId": "a42196cc-f8dc-4788-e728-b109d0c00159"
      },
      "execution_count": 31,
      "outputs": [
        {
          "output_type": "stream",
          "name": "stdout",
          "text": [
            "Escribe una letra: Z\n",
            "Es una consonante.\n"
          ]
        }
      ]
    },
    {
      "cell_type": "markdown",
      "source": [
        "4 - Escribe un programa que lea valores promedio de precios de un modelo de automóvil durante 3 años consecutivos y muestre el valor más alto y más bajo entre esos tres años."
      ],
      "metadata": {
        "id": "XG9OsSl4S6K2"
      }
    },
    {
      "cell_type": "code",
      "source": [
        "precio1 = float(input(\"Introduce el precio promedio del año 1: \"))\n",
        "precio2 = float(input(\"Introduce el precio promedio del año 2: \"))\n",
        "precio3 = float(input(\"Introduce el precio promedio del año 3: \"))\n",
        "\n",
        "precios = [precio1, precio2, precio3]\n",
        "\n",
        "precioalto = max(precios)\n",
        "preciobajo = min(precios)\n",
        "\n",
        "print(\"El valor más alto es:\", precioalto)\n",
        "print(\"El valor más bajo es:\", preciobajo)"
      ],
      "metadata": {
        "id": "x_n9xx6pTTME",
        "colab": {
          "base_uri": "https://localhost:8080/"
        },
        "outputId": "68d288f8-f56e-4a6f-b0df-9652af896a64"
      },
      "execution_count": 5,
      "outputs": [
        {
          "output_type": "stream",
          "name": "stdout",
          "text": [
            "Introduce el precio promedio del año 1: 4\n",
            "Introduce el precio promedio del año 2: 5\n",
            "Introduce el precio promedio del año 3: 7\n",
            "El valor más alto es: 7.0\n",
            "El valor más bajo es: 4.0\n"
          ]
        }
      ]
    },
    {
      "cell_type": "markdown",
      "source": [
        "5 - Escribe un programa que pregunte sobre el precio de tres productos e indique cuál es el producto más barato para comprar."
      ],
      "metadata": {
        "id": "ygphOn9TS71k"
      }
    },
    {
      "cell_type": "code",
      "source": [
        "precio1=float(input(\"Introduce el precio del producto 1: \"))\n",
        "precio2=float(input(\"Introduce el precio del producto 2: \"))\n",
        "precio3=float(input(\"Introduce el precio del producto 3: \"))\n",
        "\n",
        "if precio1<precio2 and precio1<precio3:\n",
        "  print(\"El producto 1 es el más barato\")\n",
        "elif precio2<precio1 and precio2<precio3:\n",
        "  print(\"El producto 2 es el más barato\")\n",
        "else:\n",
        "  print(\"El producto 3 es el más barato\")"
      ],
      "metadata": {
        "id": "C3qFzXfaS8w2",
        "colab": {
          "base_uri": "https://localhost:8080/"
        },
        "outputId": "2a2e0d13-f2df-4186-cf4d-63e419ab216d"
      },
      "execution_count": 14,
      "outputs": [
        {
          "output_type": "stream",
          "name": "stdout",
          "text": [
            "Introduce el precio del producto 1: 5\n",
            "Introduce el precio del producto 2: 3\n",
            "Introduce el precio del producto 3: 4\n",
            "El producto 2 es el más barato\n"
          ]
        }
      ]
    },
    {
      "cell_type": "markdown",
      "source": [
        "6 - Escribe un programa que lea tres números y los muestre en orden descendente."
      ],
      "metadata": {
        "id": "IM0mDPlIS9Iq"
      }
    },
    {
      "cell_type": "code",
      "source": [
        "a=float(input(\"Introduce el primer número: \"))\n",
        "b=float(input(\"Introduce el segundo número: \"))\n",
        "c=float(input(\"Introduce el tercer número: \"))\n",
        "\n",
        "if a>b and a>c:\n",
        "  print(a)\n",
        "  if b>=c:\n",
        "    print (b)\n",
        "    print (c)\n",
        "  else:\n",
        "    print (c)\n",
        "    print (b)\n",
        "elif b>a and b>c:\n",
        "  print(b)\n",
        "  if a>=c:\n",
        "    print (a)\n",
        "    print (c)\n",
        "  else:\n",
        "    print (c)\n",
        "    print (a)\n",
        "else:\n",
        "  print(c)\n",
        "  if a>=b:\n",
        "    print (a)\n",
        "    print (b)\n",
        "  else:\n",
        "    print (b)\n",
        "    print (a)\n"
      ],
      "metadata": {
        "id": "f5wg5m-yTTsQ",
        "colab": {
          "base_uri": "https://localhost:8080/"
        },
        "outputId": "7f980e85-ad31-401d-a3ae-e0bd1f291214"
      },
      "execution_count": 36,
      "outputs": [
        {
          "output_type": "stream",
          "name": "stdout",
          "text": [
            "Introduce el primer número: 5\n",
            "Introduce el segundo número: 22\n",
            "Introduce el tercer número: 1\n",
            "22.0\n",
            "5.0\n",
            "1.0\n"
          ]
        }
      ]
    },
    {
      "cell_type": "markdown",
      "source": [
        "7 -Escribe un programa que pregunte en qué turno estudia la persona usuaria (\"mañana\", \"tarde\" o \"noche\") y muestre el mensaje \"¡Buenos Días!\", \"¡Buenas Tardes!\", \"¡Buenas Noches!\" o \"Valor Inválido!\", según el caso."
      ],
      "metadata": {
        "id": "lrKJX1MtS-U-"
      }
    },
    {
      "cell_type": "code",
      "source": [
        "turno=input(\"En qué turno estudias? (mañana, tarde o noche) \").lower()\n",
        "\n",
        "if turno==\"mañana\":\n",
        "  print(\"¡Buenos días!\")\n",
        "elif turno==\"tarde\":\n",
        "  print(\"¡Buenas tardes!\")\n",
        "elif turno==\"noche\":\n",
        "  print(\"¡Buenas noches!\")\n",
        "else:\n",
        "  print(\"Valor inválido\")"
      ],
      "metadata": {
        "id": "9wy7W7OdTUCr"
      },
      "execution_count": null,
      "outputs": []
    },
    {
      "cell_type": "markdown",
      "source": [
        "8 - Escribe un programa que solicite un número entero a la persona usuaria y determine si es par o impar. Pista: Puedes usar el operador módulo (%)."
      ],
      "metadata": {
        "id": "8pUr_04gTAHS"
      }
    },
    {
      "cell_type": "code",
      "source": [
        "a=float(input(\"Escribe un numero entero: \"))\n",
        "\n",
        "if a%2==0:\n",
        "  print(\"El número es par\")\n",
        "else:\n",
        "  print(\"El número es impar.\")"
      ],
      "metadata": {
        "id": "amEiugCeTUZO",
        "colab": {
          "base_uri": "https://localhost:8080/"
        },
        "outputId": "bce9d623-73ff-4dbb-af3e-1bdf11e9a59e"
      },
      "execution_count": 40,
      "outputs": [
        {
          "output_type": "stream",
          "name": "stdout",
          "text": [
            "Escribe un numero entero: 77\n",
            "El número es impar.\n"
          ]
        }
      ]
    },
    {
      "cell_type": "markdown",
      "source": [
        "9 - Escribe un programa que pida un número a la persona usuaria y le informe si es entero o decimal."
      ],
      "metadata": {
        "id": "QRK-_CoYTBlG"
      }
    },
    {
      "cell_type": "code",
      "source": [
        "a=float(input(\"Escribe un numero: \"))\n",
        "\n",
        "if a%1==0:\n",
        "  print(\"El número es entero\")\n",
        "else:\n",
        "  print(\"El número es decimal.\")"
      ],
      "metadata": {
        "id": "6TWRF78XTDz3",
        "colab": {
          "base_uri": "https://localhost:8080/"
        },
        "outputId": "cf45c2b0-c845-4be0-c4f2-43fe1820053d"
      },
      "execution_count": 47,
      "outputs": [
        {
          "output_type": "stream",
          "name": "stdout",
          "text": [
            "Escribe un numero: 0.5\n",
            "El número es decimal.\n"
          ]
        }
      ]
    },
    {
      "cell_type": "markdown",
      "source": [
        "##Momento de los proyectos\n",
        "\n",
        "10 - Un programa debe ser escrito para leer dos números y luego preguntar a la persona usuaria qué operación desea realizar. El resultado de la operación debe incluir información sobre el número, si es par o impar, positivo o negativo, e entero o decimal."
      ],
      "metadata": {
        "id": "0Ce0RnPPTEHE"
      }
    },
    {
      "cell_type": "code",
      "source": [
        "a=float(input(\"Escribe el primer numero: \"))\n",
        "b=float(input(\"Escribe el segundo numero: \"))\n",
        "op=input(\"¿Qué operación deseas realizar? (+, -, *, /) \")\n",
        "\n",
        "'Operadores'\n",
        "if op == \"+\":\n",
        "  c=a+b\n",
        "  print (f\"El resultado es: \",{c})\n",
        "elif op == \"-\":\n",
        "  c=a-b\n",
        "  print (f\"El resultado es: \",{c})\n",
        "elif op == \"*\":\n",
        "  c=a*b\n",
        "  print (f\"El resultado es: \",{c})\n",
        "elif op == \"/\":\n",
        "  c=a/b\n",
        "  print (f\"El resultado es: \",{c})\n",
        "else:\n",
        "  print(\"Operación inválida\")\n",
        "\n",
        "'Par o Impar'\n",
        "\n",
        "if c%2 == 0:\n",
        "  print(\"El numero es par.\")\n",
        "elif c%2 != 0:\n",
        "  print(\"El numero es impar.\")\n",
        "\n",
        "'Entero o Decimal'\n",
        "\n",
        "if c%1 == 0:\n",
        "  print(\"El numero es entero.\")\n",
        "elif c%1 != 0:\n",
        "  print(\"El numero es decimal.\")\n",
        "\n",
        "'Positivo o Negativo'\n",
        "if c>0:\n",
        "  print(\"El numero es positivo.\")\n",
        "elif c<0:\n",
        "  print(\"El numero es negativo.\")\n",
        "else:\n",
        "  print(\"El numero es cero.\")"
      ],
      "metadata": {
        "id": "27dqajtrTU8V",
        "colab": {
          "base_uri": "https://localhost:8080/"
        },
        "outputId": "e694e90b-c577-4e25-ddba-5f1f74b0115e"
      },
      "execution_count": 56,
      "outputs": [
        {
          "output_type": "stream",
          "name": "stdout",
          "text": [
            "Escribe el primer numero: 4\n",
            "Escribe el segundo numero: 5\n",
            "¿Qué operación deseas realizar? (+, -, *, /) +\n",
            "El resultado es:  {9.0}\n",
            "El numero es impar.\n",
            "El numero es entero.\n",
            "El numero es positivo.\n"
          ]
        }
      ]
    },
    {
      "cell_type": "markdown",
      "source": [
        "11 - Escribe un programa que pida a la persona usuaria tres números que representan los lados de un triángulo. El programa debe informar si los valores pueden utilizarse para formar un triángulo y, en caso afirmativo, si es equilátero, isósceles o escaleno. Ten en cuenta algunas sugerencias:\n",
        "\n",
        "Tres lados forman un triángulo cuando la suma de cualesquiera dos lados es mayor que el tercero;\n",
        "Triángulo Equilátero: tres lados iguales;\n",
        "Triángulo Isósceles: dos lados iguales;\n",
        "Triángulo Escaleno: tres lados diferentes."
      ],
      "metadata": {
        "id": "HomE-NUJTG0r"
      }
    },
    {
      "cell_type": "code",
      "source": [
        "a=float(input(\"Escribe el primer lado del triángulo: \"))\n",
        "b=float(input(\"Escribe el segundo lado del triángulo: \"))\n",
        "c=float(input(\"Escribe el tercer lado del triángulo: \"))\n",
        "\n",
        "if a+b>c and a+c>b and b+c>a:\n",
        "  print(\"Los valores pueden utilizarse para formar un triángulo.\")\n",
        "  if a==b and a==c:\n",
        "    print(\"El triangulo es equilatero.\")\n",
        "  elif a==b or a==c or b==c:\n",
        "    print(\"El triangulo es isósceles.\")\n",
        "  else:\n",
        "    print(\"El triangulo es escaleno.\")\n",
        "else:\n",
        "  print(\"Los valores no pueden utilizarse para formar un triángulo.\")"
      ],
      "metadata": {
        "id": "CZgEGzpCTJj_",
        "colab": {
          "base_uri": "https://localhost:8080/"
        },
        "outputId": "659be4df-0c76-498b-87a4-35f6b8b55510"
      },
      "execution_count": 57,
      "outputs": [
        {
          "output_type": "stream",
          "name": "stdout",
          "text": [
            "Escribe el primer lado del triángulo: 6\n",
            "Escribe el segundo lado del triángulo: 7\n",
            "Escribe el tercer lado del triángulo: 8\n",
            "Los valores pueden utilizarse para formar un triángulo.\n",
            "El triangulo es escaleno.\n"
          ]
        }
      ]
    },
    {
      "cell_type": "markdown",
      "source": [
        "12 - Un establecimiento está vendiendo combustibles con descuentos variables. Para el etanol, si la cantidad comprada es de hasta 15 litros, el descuento será del 2% por litro. En caso contrario, será del 4% por litro. Para el diésel, si la cantidad comprada es de hasta 15 litros, el descuento será del 3% por litro. En caso contrario, será del 5% por litro. El precio por litro de diésel es de R$ 2,00 y el precio por litro de etanol es de R$ 1,70. Escribe un programa que lea la cantidad de litros vendidos y el tipo de combustible (E para etanol y D para diésel) y calcule el valor a pagar por el cliente. Ten en cuenta algunas sugerencias:\n",
        "\n",
        "El valor del descuento será el producto del precio por litro, la cantidad de litros y el valor del descuento.\n",
        "El valor a pagar por un cliente será el resultado de la multiplicación del precio por litro por la cantidad de litros menos el valor del descuento resultante del cálculo."
      ],
      "metadata": {
        "id": "2rhOK1AdTJ2E"
      }
    },
    {
      "cell_type": "code",
      "source": [],
      "metadata": {
        "id": "IsGiPmFwTQDo"
      },
      "execution_count": null,
      "outputs": []
    },
    {
      "cell_type": "markdown",
      "source": [
        "13 - En una empresa de venta de bienes raíces, debes crear un código que analice los datos de ventas anuales para ayudar a la dirección en la toma de decisiones. El código debe recopilar los datos de cantidad de ventas durante los años 2022 y 2023 y calcular la variación porcentual. A partir del valor de la variación, se deben proporcionar las siguientes sugerencias:\n",
        "\n",
        "Para una variación superior al 20%: bonificación para el equipo de ventas.\n",
        "Para una variación entre el 2% y el 20%: pequeña bonificación para el equipo de ventas.\n",
        "Para una variación entre el 2% y el -10%: planificación de políticas de incentivo a las ventas.\n",
        "Para bonificaciones inferiores al -10%: recorte de gastos."
      ],
      "metadata": {
        "id": "gYehaRJcTQUh"
      }
    },
    {
      "cell_type": "code",
      "source": [],
      "metadata": {
        "id": "YKHyXfhhTRag"
      },
      "execution_count": null,
      "outputs": []
    }
  ]
}